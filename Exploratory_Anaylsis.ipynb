{
 "cells": [
  {
   "cell_type": "markdown",
   "metadata": {},
   "source": [
    "**Bigger Goal** is to distinguish between songs that I merely *like* and songs that I *love*\n",
    "\n",
    "###Loading the data"
   ]
  },
  {
   "cell_type": "code",
   "execution_count": 2,
   "metadata": {
    "collapsed": true
   },
   "outputs": [],
   "source": [
    "import requests\n",
    "import json\n",
    "import spotipy\n",
    "import pandas as pd\n",
    "import numpy as np\n",
    "import matplotlib.pyplot as plt\n",
    "import matplotlib\n",
    "matplotlib.style.use('ggplot')\n",
    "%matplotlib inline\n",
    "import sys\n",
    "\n",
    "\n",
    "import playlist_data\n"
   ]
  },
  {
   "cell_type": "code",
   "execution_count": null,
   "metadata": {
    "collapsed": false
   },
   "outputs": [
    {
     "name": "stdout",
     "output_type": "stream",
     "text": [
      "Setting up\n",
      "getting playlist tracks from spotify\n",
      "merge with artist info from echo nest\n",
      "0"
     ]
    }
   ],
   "source": [
    "USERNAME = 'dbgoldberg01'\n",
    "favorites = playlist_data.main(USERNAME, 'science')\n",
    "favorites.head()"
   ]
  },
  {
   "cell_type": "code",
   "execution_count": null,
   "metadata": {
    "collapsed": false
   },
   "outputs": [],
   "source": [
    "reload(playlist_data)\n",
    "justlike = playlist_data.main(USERNAME, 'justlike')\n",
    "justlike.head()"
   ]
  },
  {
   "cell_type": "code",
   "execution_count": null,
   "metadata": {
    "collapsed": false
   },
   "outputs": [],
   "source": [
    "import seaborn as sns\n",
    "pd.options.display.mpl_style = 'default'\n",
    "relavent_columns = ['track_popularity','discovery','familiarity',\n",
    "                   'hotttnesss','acousticness','danceability','duration',\n",
    "                    'energy','instrumentalness','key','liveness',\n",
    "                    'loudness', 'mode', 'speechiness','tempo','time_signature',\n",
    "                    'valence']\n",
    "fvs_data = favorites[relavent_columns]\n",
    "for c in relavent_columns:  \n",
    "    plt.figure()\n",
    "    sns.boxplot(fvs_data[c])\n",
    "plt.show()"
   ]
  },
  {
   "cell_type": "code",
   "execution_count": null,
   "metadata": {
    "collapsed": false
   },
   "outputs": [],
   "source": [
    "from pandas.tools.plotting import scatter_matrix\n",
    "relavent_columns = ['track_popularity','discovery','familiarity',\n",
    "                   'hotttnesss','acousticness','danceability','duration',\n",
    "                    'energy','instrumentalness','liveness',\n",
    "                    'loudness', 'speechiness','tempo',\n",
    "                    'valence']\n",
    "fvs_data = favorites[relavent_columns]\n",
    "axes = pd.scatter_matrix(fvs_data, 0.2, figsize=(5,5), diagonal='hist')\n",
    "col_length = len(relavent_columns)\n",
    "for i in xrange(col_length):\n",
    "    for j in xrange(col_length):\n",
    "        ax = axes[i,j]\n",
    "        ax.set_xticks([])\n",
    "        ax.xaxis.label.set_rotation(90)\n",
    "        ax.set_yticks([])\n",
    "        ax.yaxis.label.set_rotation(0)\n",
    "        ax.yaxis.labelpad = 50\n",
    "\n",
    "plt.xticks(rotation='vertical')\n",
    "plt.yticks([],rotation='horizontal')\n",
    "plt.show()"
   ]
  },
  {
   "cell_type": "code",
   "execution_count": null,
   "metadata": {
    "collapsed": false
   },
   "outputs": [],
   "source": [
    "df1 = fvs_data\n",
    "df1['love'] = 1\n",
    "df2 = justlike[relavent_columns]\n",
    "df2['love'] = 0\n",
    "df_all = df1.append(df2, ignore_index=True)\n",
    "df_all = df_all.reindex(np.random.permutation(df_all.index))\n",
    "df_all.head()"
   ]
  },
  {
   "cell_type": "code",
   "execution_count": null,
   "metadata": {
    "collapsed": false
   },
   "outputs": [],
   "source": [
    "from pandas.tools.plotting import parallel_coordinates\n",
    "plt.figure()\n",
    "to_normalize = ['duration','tempo','track_popularity','loudness']\n",
    "df_all[to_normalize] = df_all[to_normalize] \\\n",
    "            .apply(lambda x: x/x.max())\n",
    "\n",
    "parallel_coordinates(df_all, 'love')\n",
    "plt.xticks(rotation='90')"
   ]
  },
  {
   "cell_type": "markdown",
   "metadata": {},
   "source": [
    "*  I'm going to start getting into linear regression and shit, possibly alongside the textbook."
   ]
  },
  {
   "cell_type": "code",
   "execution_count": null,
   "metadata": {
    "collapsed": false
   },
   "outputs": [],
   "source": [
    "df_all"
   ]
  },
  {
   "cell_type": "code",
   "execution_count": null,
   "metadata": {
    "collapsed": true
   },
   "outputs": [],
   "source": []
  }
 ],
 "metadata": {
  "kernelspec": {
   "display_name": "Python 2",
   "language": "python",
   "name": "python2"
  },
  "language_info": {
   "codemirror_mode": {
    "name": "ipython",
    "version": 2
   },
   "file_extension": ".py",
   "mimetype": "text/x-python",
   "name": "python",
   "nbconvert_exporter": "python",
   "pygments_lexer": "ipython2",
   "version": "2.7.10"
  }
 },
 "nbformat": 4,
 "nbformat_minor": 0
}
