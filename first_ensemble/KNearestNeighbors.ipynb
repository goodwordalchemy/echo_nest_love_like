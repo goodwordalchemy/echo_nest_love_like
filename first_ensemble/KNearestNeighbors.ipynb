{
 "cells": [
  {
   "cell_type": "code",
   "execution_count": 1,
   "metadata": {
    "collapsed": false
   },
   "outputs": [],
   "source": [
    "import pandas as pd\n",
    "import numpy as np\n",
    "import seaborn as sns\n",
    "import matplotlib.pyplot as plt\n",
    "%matplotlib inline"
   ]
  },
  {
   "cell_type": "code",
   "execution_count": 2,
   "metadata": {
    "collapsed": false
   },
   "outputs": [
    {
     "data": {
      "text/html": [
       "<div>\n",
       "<table border=\"1\" class=\"dataframe\">\n",
       "  <thead>\n",
       "    <tr style=\"text-align: right;\">\n",
       "      <th></th>\n",
       "      <th>track_name</th>\n",
       "      <th>track_id</th>\n",
       "      <th>track_uri</th>\n",
       "      <th>track_popularity</th>\n",
       "      <th>added_at</th>\n",
       "      <th>album_name</th>\n",
       "      <th>album_id</th>\n",
       "      <th>album_uri</th>\n",
       "      <th>artist_name</th>\n",
       "      <th>artist_id</th>\n",
       "      <th>...</th>\n",
       "      <th>instrumentalness</th>\n",
       "      <th>key</th>\n",
       "      <th>liveness</th>\n",
       "      <th>loudness</th>\n",
       "      <th>mode</th>\n",
       "      <th>speechiness</th>\n",
       "      <th>tempo</th>\n",
       "      <th>time_signature</th>\n",
       "      <th>valence</th>\n",
       "      <th>love</th>\n",
       "    </tr>\n",
       "  </thead>\n",
       "  <tbody>\n",
       "    <tr>\n",
       "      <th>0</th>\n",
       "      <td>Gimme Shelter</td>\n",
       "      <td>1Rkx7ve9RqSuQ877R3X2HO</td>\n",
       "      <td>spotify:track:1Rkx7ve9RqSuQ877R3X2HO</td>\n",
       "      <td>0.13</td>\n",
       "      <td>2015-09-17T19:14:27Z</td>\n",
       "      <td>Let It Bleed</td>\n",
       "      <td>088HGHE7BhAMAy9fAApAGP</td>\n",
       "      <td>spotify:album:088HGHE7BhAMAy9fAApAGP</td>\n",
       "      <td>The Rolling Stones</td>\n",
       "      <td>22bE4uQ6baNwSHPVcDxLCe</td>\n",
       "      <td>...</td>\n",
       "      <td>NaN</td>\n",
       "      <td>NaN</td>\n",
       "      <td>NaN</td>\n",
       "      <td>NaN</td>\n",
       "      <td>NaN</td>\n",
       "      <td>NaN</td>\n",
       "      <td>NaN</td>\n",
       "      <td>NaN</td>\n",
       "      <td>NaN</td>\n",
       "      <td>1</td>\n",
       "    </tr>\n",
       "    <tr>\n",
       "      <th>1</th>\n",
       "      <td>Amen</td>\n",
       "      <td>3Y5N6bX69lWiUCbiz8pnvm</td>\n",
       "      <td>spotify:track:3Y5N6bX69lWiUCbiz8pnvm</td>\n",
       "      <td>0.05</td>\n",
       "      <td>2015-09-16T22:33:32Z</td>\n",
       "      <td>Old Ideas</td>\n",
       "      <td>3rKKkW53N1n2tAzZZw7sen</td>\n",
       "      <td>spotify:album:3rKKkW53N1n2tAzZZw7sen</td>\n",
       "      <td>Leonard Cohen</td>\n",
       "      <td>5l8VQNuIg0turYE1VtM9zV</td>\n",
       "      <td>...</td>\n",
       "      <td>NaN</td>\n",
       "      <td>NaN</td>\n",
       "      <td>NaN</td>\n",
       "      <td>NaN</td>\n",
       "      <td>NaN</td>\n",
       "      <td>NaN</td>\n",
       "      <td>NaN</td>\n",
       "      <td>NaN</td>\n",
       "      <td>NaN</td>\n",
       "      <td>1</td>\n",
       "    </tr>\n",
       "    <tr>\n",
       "      <th>2</th>\n",
       "      <td>Guns Of Brixton</td>\n",
       "      <td>5qmnNMX75aVplvqQdkgX9Y</td>\n",
       "      <td>spotify:track:5qmnNMX75aVplvqQdkgX9Y</td>\n",
       "      <td>0.37</td>\n",
       "      <td>2015-09-16T22:33:32Z</td>\n",
       "      <td>Rebirth</td>\n",
       "      <td>6O9MuNShJuPIsm2MMlTB5M</td>\n",
       "      <td>spotify:album:6O9MuNShJuPIsm2MMlTB5M</td>\n",
       "      <td>Jimmy Cliff</td>\n",
       "      <td>3rJ3m1tM6vUgiWLjfV8sRf</td>\n",
       "      <td>...</td>\n",
       "      <td>0.000004</td>\n",
       "      <td>3</td>\n",
       "      <td>0.095976</td>\n",
       "      <td>0.899546</td>\n",
       "      <td>1</td>\n",
       "      <td>0.030653</td>\n",
       "      <td>0.591532</td>\n",
       "      <td>4</td>\n",
       "      <td>0.899693</td>\n",
       "      <td>1</td>\n",
       "    </tr>\n",
       "    <tr>\n",
       "      <th>3</th>\n",
       "      <td>Feet and Bones</td>\n",
       "      <td>3OUEUV0K6N1zPWZc6SCNzm</td>\n",
       "      <td>spotify:track:3OUEUV0K6N1zPWZc6SCNzm</td>\n",
       "      <td>0.18</td>\n",
       "      <td>2015-09-16T22:33:32Z</td>\n",
       "      <td>Palomino</td>\n",
       "      <td>20Qgovu90SjEo63L7inaTr</td>\n",
       "      <td>spotify:album:20Qgovu90SjEo63L7inaTr</td>\n",
       "      <td>Trampled By Turtles</td>\n",
       "      <td>3GjVVVcFmUgEJEAAsbGkf4</td>\n",
       "      <td>...</td>\n",
       "      <td>NaN</td>\n",
       "      <td>NaN</td>\n",
       "      <td>NaN</td>\n",
       "      <td>NaN</td>\n",
       "      <td>NaN</td>\n",
       "      <td>NaN</td>\n",
       "      <td>NaN</td>\n",
       "      <td>NaN</td>\n",
       "      <td>NaN</td>\n",
       "      <td>1</td>\n",
       "    </tr>\n",
       "    <tr>\n",
       "      <th>4</th>\n",
       "      <td>The Night Comes Again</td>\n",
       "      <td>5KFdwLvJ0Bokm0TFlSPq47</td>\n",
       "      <td>spotify:track:5KFdwLvJ0Bokm0TFlSPq47</td>\n",
       "      <td>0.43</td>\n",
       "      <td>2015-09-16T22:33:32Z</td>\n",
       "      <td>When The Night</td>\n",
       "      <td>7fbye8EAeiLsiKAe2upMEh</td>\n",
       "      <td>spotify:album:7fbye8EAeiLsiKAe2upMEh</td>\n",
       "      <td>St. Lucia</td>\n",
       "      <td>5WId4o5jdGVhptNU0uqKxu</td>\n",
       "      <td>...</td>\n",
       "      <td>NaN</td>\n",
       "      <td>NaN</td>\n",
       "      <td>NaN</td>\n",
       "      <td>NaN</td>\n",
       "      <td>NaN</td>\n",
       "      <td>NaN</td>\n",
       "      <td>NaN</td>\n",
       "      <td>NaN</td>\n",
       "      <td>NaN</td>\n",
       "      <td>1</td>\n",
       "    </tr>\n",
       "  </tbody>\n",
       "</table>\n",
       "<p>5 rows × 30 columns</p>\n",
       "</div>"
      ],
      "text/plain": [
       "              track_name                track_id  \\\n",
       "0          Gimme Shelter  1Rkx7ve9RqSuQ877R3X2HO   \n",
       "1                   Amen  3Y5N6bX69lWiUCbiz8pnvm   \n",
       "2        Guns Of Brixton  5qmnNMX75aVplvqQdkgX9Y   \n",
       "3         Feet and Bones  3OUEUV0K6N1zPWZc6SCNzm   \n",
       "4  The Night Comes Again  5KFdwLvJ0Bokm0TFlSPq47   \n",
       "\n",
       "                              track_uri  track_popularity  \\\n",
       "0  spotify:track:1Rkx7ve9RqSuQ877R3X2HO              0.13   \n",
       "1  spotify:track:3Y5N6bX69lWiUCbiz8pnvm              0.05   \n",
       "2  spotify:track:5qmnNMX75aVplvqQdkgX9Y              0.37   \n",
       "3  spotify:track:3OUEUV0K6N1zPWZc6SCNzm              0.18   \n",
       "4  spotify:track:5KFdwLvJ0Bokm0TFlSPq47              0.43   \n",
       "\n",
       "               added_at      album_name                album_id  \\\n",
       "0  2015-09-17T19:14:27Z    Let It Bleed  088HGHE7BhAMAy9fAApAGP   \n",
       "1  2015-09-16T22:33:32Z       Old Ideas  3rKKkW53N1n2tAzZZw7sen   \n",
       "2  2015-09-16T22:33:32Z         Rebirth  6O9MuNShJuPIsm2MMlTB5M   \n",
       "3  2015-09-16T22:33:32Z        Palomino  20Qgovu90SjEo63L7inaTr   \n",
       "4  2015-09-16T22:33:32Z  When The Night  7fbye8EAeiLsiKAe2upMEh   \n",
       "\n",
       "                              album_uri          artist_name  \\\n",
       "0  spotify:album:088HGHE7BhAMAy9fAApAGP   The Rolling Stones   \n",
       "1  spotify:album:3rKKkW53N1n2tAzZZw7sen        Leonard Cohen   \n",
       "2  spotify:album:6O9MuNShJuPIsm2MMlTB5M          Jimmy Cliff   \n",
       "3  spotify:album:20Qgovu90SjEo63L7inaTr  Trampled By Turtles   \n",
       "4  spotify:album:7fbye8EAeiLsiKAe2upMEh            St. Lucia   \n",
       "\n",
       "                artist_id  ...  instrumentalness key  liveness  loudness mode  \\\n",
       "0  22bE4uQ6baNwSHPVcDxLCe  ...               NaN NaN       NaN       NaN  NaN   \n",
       "1  5l8VQNuIg0turYE1VtM9zV  ...               NaN NaN       NaN       NaN  NaN   \n",
       "2  3rJ3m1tM6vUgiWLjfV8sRf  ...          0.000004   3  0.095976  0.899546    1   \n",
       "3  3GjVVVcFmUgEJEAAsbGkf4  ...               NaN NaN       NaN       NaN  NaN   \n",
       "4  5WId4o5jdGVhptNU0uqKxu  ...               NaN NaN       NaN       NaN  NaN   \n",
       "\n",
       "   speechiness     tempo  time_signature   valence  love  \n",
       "0          NaN       NaN             NaN       NaN     1  \n",
       "1          NaN       NaN             NaN       NaN     1  \n",
       "2     0.030653  0.591532               4  0.899693     1  \n",
       "3          NaN       NaN             NaN       NaN     1  \n",
       "4          NaN       NaN             NaN       NaN     1  \n",
       "\n",
       "[5 rows x 30 columns]"
      ]
     },
     "execution_count": 2,
     "metadata": {},
     "output_type": "execute_result"
    }
   ],
   "source": [
    "pldata = pd.read_csv('playlist.csv', index_col=0)\n",
    "pldata.reset_index(range(len(pldata)), inplace=True, drop=True)\n",
    "pldata.head()"
   ]
  },
  {
   "cell_type": "code",
   "execution_count": 5,
   "metadata": {
    "collapsed": false
   },
   "outputs": [
    {
     "data": {
      "text/plain": [
       "Index([u'track_popularity', u'discovery', u'familiarity', u'hotttnesss',\n",
       "       u'acousticness', u'danceability', u'duration', u'energy',\n",
       "       u'instrumentalness', u'key', u'liveness', u'loudness', u'speechiness',\n",
       "       u'tempo', u'mode', u'valence', u'love'],\n",
       "      dtype='object')"
      ]
     },
     "execution_count": 5,
     "metadata": {},
     "output_type": "execute_result"
    }
   ],
   "source": [
    "#extract relavant columns\n",
    "data = pldata.set_index('track_name')\n",
    "relavent_columns = ['track_popularity','discovery', \n",
    "        'familiarity', 'hotttnesss','acousticness',\n",
    "        'danceability','duration','energy','instrumentalness',\n",
    "        'key', 'liveness','loudness', 'speechiness','tempo',\n",
    "        'mode','valence','love']\n",
    "data = data[relavent_columns]\n",
    "data.columns"
   ]
  },
  {
   "cell_type": "code",
   "execution_count": 6,
   "metadata": {
    "collapsed": false
   },
   "outputs": [
    {
     "name": "stdout",
     "output_type": "stream",
     "text": [
      "(44, 16)\n",
      "(44,)\n",
      "(22, 16)\n",
      "(22,)\n"
     ]
    }
   ],
   "source": [
    "from sklearn import cross_validation\n",
    "pldata.dropna(axis=0, inplace=True)\n",
    "X_train, X_test, Y_train, Y_test = cross_validation.train_test_split(\n",
    "        data.drop('love',axis=1), \n",
    "        data['love'],\n",
    "        test_size=0.33,\n",
    "        random_state=42)\n",
    "print X_train.shape\n",
    "print Y_train.shape\n",
    "print X_test.shape\n",
    "print Y_test.shape"
   ]
  },
  {
   "cell_type": "code",
   "execution_count": 88,
   "metadata": {
    "collapsed": false
   },
   "outputs": [
    {
     "name": "stderr",
     "output_type": "stream",
     "text": [
      "/Users/davidgoldberg/anaconda/lib/python2.7/site-packages/sklearn/cross_validation.py:417: Warning: The least populated class in y has only 12 members, which is too few. The minimum number of labels for any class cannot be less than n_folds=21.\n",
      "  % (min_labels, self.n_folds)), Warning)\n",
      "[Parallel(n_jobs=1)]: Done   1 jobs       | elapsed:    0.0s\n",
      "[Parallel(n_jobs=1)]: Done  50 jobs       | elapsed:    0.2s\n"
     ]
    },
    {
     "name": "stdout",
     "output_type": "stream",
     "text": [
      "Fitting 21 folds for each of 10 candidates, totalling 210 fits\n"
     ]
    },
    {
     "name": "stderr",
     "output_type": "stream",
     "text": [
      "[Parallel(n_jobs=1)]: Done 200 jobs       | elapsed:    0.8s\n",
      "[Parallel(n_jobs=1)]: Done 210 out of 210 | elapsed:    0.9s finished\n"
     ]
    },
    {
     "data": {
      "text/plain": [
       "GridSearchCV(cv=21, error_score='raise',\n",
       "       estimator=KNeighborsClassifier(algorithm='auto', leaf_size=30, metric='minkowski',\n",
       "           metric_params=None, n_neighbors=5, p=2, weights='uniform'),\n",
       "       fit_params={}, iid=True, loss_func=None, n_jobs=1,\n",
       "       param_grid={'n_neighbors': array([ 1,  2,  3,  4,  5,  6,  7,  8,  9, 10])},\n",
       "       pre_dispatch='2*n_jobs', refit=True, score_func=None, scoring=None,\n",
       "       verbose=1)"
      ]
     },
     "execution_count": 88,
     "metadata": {},
     "output_type": "execute_result"
    }
   ],
   "source": [
    "from sklearn import grid_search, neighbors\n",
    "\n",
    "k = np.arange(10) + 1\n",
    "parameters = {'n_neighbors': k}\n",
    "knn = neighbors.KNeighborsClassifier()\n",
    "clf = grid_search.GridSearchCV(knn, parameters, cv=21, verbose=1)\n",
    "clf.fit(X_train, Y_train)"
   ]
  },
  {
   "cell_type": "code",
   "execution_count": 89,
   "metadata": {
    "collapsed": false
   },
   "outputs": [
    {
     "data": {
      "image/png": "[encoded data removed]",
      "text/plain": [
       "<matplotlib.figure.Figure at 0x10ac34350>"
      ]
     },
     "metadata": {},
     "output_type": "display_data"
    }
   ],
   "source": [
    "def plot_knn_cv_scores(clf):\n",
    "    a = clf.grid_scores_\n",
    "    scores = [b.cv_validation_scores for b in a]\n",
    "    score_means = np.mean(scores, axis=1)\n",
    "    \n",
    "    sns.boxplot(x=k, y=scores)\n",
    "    plt.scatter(k, score_means, c='k', zorder=2)\n",
    "    plt.title('Accuracy as a function of $k$')\n",
    "    plt.ylabel('Accuracy')\n",
    "    plt.xlabel('Choice of k')\n",
    "plot_knn_cv_scores(clf)\n",
    "plt.show()"
   ]
  },
  {
   "cell_type": "code",
   "execution_count": 103,
   "metadata": {
    "collapsed": false
   },
   "outputs": [
    {
     "name": "stdout",
     "output_type": "stream",
     "text": [
      "{'n_neighbors': 6}\n"
     ]
    },
    {
     "data": {
      "text/plain": [
       "array([1, 1, 0, 1, 1, 0, 0, 1, 1, 1, 1, 1, 0, 1, 1, 1, 1, 1, 1, 1, 1, 0])"
      ]
     },
     "execution_count": 103,
     "metadata": {},
     "output_type": "execute_result"
    }
   ],
   "source": [
    "print clf.best_params_\n",
    "clf.best_estimator_.predict(X_test)"
   ]
  },
  {
   "cell_type": "code",
   "execution_count": 128,
   "metadata": {
    "collapsed": false
   },
   "outputs": [],
   "source": [
    "def computeTestScores(test_x, test_y, clf, cv=5):\n",
    "    from sklearn import metrics\n",
    "    kFolds = cross_validation.KFold(test_x.shape[0], cv)\n",
    "    scores = []\n",
    "    for _, test_index in kFolds:\n",
    "        test_data = test_x.ix[test_index]\n",
    "        test_labels = test_y.ix[test_index]\n",
    "        scores.append(metrics.accuracy_score(test_labels,\n",
    "                clf.predict(test_data)))\n",
    "    return scores"
   ]
  },
  {
   "cell_type": "code",
   "execution_count": 131,
   "metadata": {
    "collapsed": false
   },
   "outputs": [
    {
     "name": "stdout",
     "output_type": "stream",
     "text": [
      "mean accuracy: 0.640\n",
      "std deviation: 0.271\n"
     ]
    }
   ],
   "source": [
    "scores = computeTestScores(X_test, Y_test, clf.best_estimator_)\n",
    "print 'mean accuracy: %.3f'%np.mean(scores)\n",
    "print 'std deviation: %.3f'%np.std(scores)"
   ]
  },
  {
   "cell_type": "code",
   "execution_count": 15,
   "metadata": {
    "collapsed": false
   },
   "outputs": [
    {
     "data": {
      "image/png": "[encoded data removed]",
      "text/plain": [
       "<matplotlib.figure.Figure at 0x108bde510>"
      ]
     },
     "metadata": {},
     "output_type": "display_data"
    },
    {
     "name": "stdout",
     "output_type": "stream",
     "text": [
      " explained variance: [ 3.03399762  2.31407235]\n",
      "explained variance ratio: [ 0.18962485  0.14462952]\n"
     ]
    }
   ],
   "source": [
    "from sklearn.decomposition import TruncatedSVD\n",
    "from sklearn.preprocessing import StandardScaler\n",
    "from sklearn.pipeline import Pipeline\n",
    "\n",
    "svd = Pipeline([('norm', StandardScaler()),\n",
    "                ('svd', TruncatedSVD(n_components=2))])\n",
    "                \n",
    "X_2d = svd.fit_transform(X_train)\n",
    "\n",
    "plt.scatter(X_2d[:,0], X_2d[:,1], c=Y_train, s = 50, cmap=plt.cm.binary)\n",
    "plt.colorbar()\n",
    "plt.xlabel('PC1')\n",
    "plt.ylabel('PC2')\n",
    "plt.title('First two PCs using digits data')\n",
    "plt.show()\n",
    "\n",
    "res = svd.steps[1][1]\n",
    "print 'explained variance:', res.explained_variance_\n",
    "print 'explained variance ratio:', res.explained_variance_ratio_"
   ]
  },
  {
   "cell_type": "markdown",
   "metadata": {},
   "source": [
    "There's some separation, but not as much as you would want or think."
   ]
  },
  {
   "cell_type": "code",
   "execution_count": null,
   "metadata": {
    "collapsed": true
   },
   "outputs": [],
   "source": []
  }
 ],
 "metadata": {
  "kernelspec": {
   "display_name": "Python 2",
   "language": "python",
   "name": "python2"
  },
  "language_info": {
   "codemirror_mode": {
    "name": "ipython",
    "version": 2
   },
   "file_extension": ".py",
   "mimetype": "text/x-python",
   "name": "python",
   "nbconvert_exporter": "python",
   "pygments_lexer": "ipython2",
   "version": "2.7.10"
  }
 },
 "nbformat": 4,
 "nbformat_minor": 0
}
