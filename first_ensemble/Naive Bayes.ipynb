{
 "cells": [
  {
   "cell_type": "code",
   "execution_count": 26,
   "metadata": {
    "collapsed": false
   },
   "outputs": [
    {
     "name": "stdout",
     "output_type": "stream",
     "text": [
      "[Though Minnesota quintet Trampled By Turtles has long been tagged as a progressive bluegrass act, their lonesome, minimalist aesthetic pushes them head-on into folk territory. Nowhere has that been more apparent than on Wild Animals , the band's fol\n"
     ]
    }
   ],
   "source": [
    "import pandas as pd\n",
    "import matplotlib.pyplot as plt\n",
    "import numpy as np\n",
    "import matplotlib\n",
    "%matplotlib inline\n",
    "\n",
    "text_column = 'reviews'\n",
    "data = pd.read_csv('playlist_with_reviews.csv',index_col=1)\n",
    "data = data[[text_column,'love']]\n",
    "data[text_column] = data[text_column].apply(lambda x: unicode(x, errors='replace'))\n",
    "print data.ix['Feet and Bones'].reviews[:250]"
   ]
  },
  {
   "cell_type": "code",
   "execution_count": 38,
   "metadata": {
    "collapsed": false
   },
   "outputs": [
    {
     "data": {
      "text/html": [
       "<div>\n",
       "<table border=\"1\" class=\"dataframe\">\n",
       "  <thead>\n",
       "    <tr style=\"text-align: right;\">\n",
       "      <th></th>\n",
       "      <th>reviews</th>\n",
       "      <th>love</th>\n",
       "    </tr>\n",
       "    <tr>\n",
       "      <th>track_name</th>\n",
       "      <th></th>\n",
       "      <th></th>\n",
       "    </tr>\n",
       "  </thead>\n",
       "  <tbody>\n",
       "    <tr>\n",
       "      <th>Good Vibrations - 2001 - Remaster</th>\n",
       "      <td>[The Beach Boys' self-image has always been ou...</td>\n",
       "      <td>1</td>\n",
       "    </tr>\n",
       "    <tr>\n",
       "      <th>Feet and Bones</th>\n",
       "      <td>[Though Minnesota quintet Trampled By Turtles ...</td>\n",
       "      <td>1</td>\n",
       "    </tr>\n",
       "    <tr>\n",
       "      <th>Lonesome Dreams</th>\n",
       "      <td>[I'm not someone who should be gushing over an...</td>\n",
       "      <td>1</td>\n",
       "    </tr>\n",
       "    <tr>\n",
       "      <th>Siberian Breaks</th>\n",
       "      <td>[The wait is over! Record Store Day 2014 is th...</td>\n",
       "      <td>1</td>\n",
       "    </tr>\n",
       "    <tr>\n",
       "      <th>Amen</th>\n",
       "      <td>[Cohen's second release since last September's...</td>\n",
       "      <td>1</td>\n",
       "    </tr>\n",
       "  </tbody>\n",
       "</table>\n",
       "</div>"
      ],
      "text/plain": [
       "                                                                             reviews  \\\n",
       "track_name                                                                             \n",
       "Good Vibrations - 2001 - Remaster  [The Beach Boys' self-image has always been ou...   \n",
       "Feet and Bones                     [Though Minnesota quintet Trampled By Turtles ...   \n",
       "Lonesome Dreams                    [I'm not someone who should be gushing over an...   \n",
       "Siberian Breaks                    [The wait is over! Record Store Day 2014 is th...   \n",
       "Amen                               [Cohen's second release since last September's...   \n",
       "\n",
       "                                   love  \n",
       "track_name                               \n",
       "Good Vibrations - 2001 - Remaster     1  \n",
       "Feet and Bones                        1  \n",
       "Lonesome Dreams                       1  \n",
       "Siberian Breaks                       1  \n",
       "Amen                                  1  "
      ]
     },
     "execution_count": 38,
     "metadata": {},
     "output_type": "execute_result"
    }
   ],
   "source": [
    "data.head()"
   ]
  },
  {
   "cell_type": "code",
   "execution_count": 26,
   "metadata": {
    "collapsed": false
   },
   "outputs": [
    {
     "data": {
      "image/png": "[encoded data removed]",
      "text/plain": [
       "<matplotlib.figure.Figure at 0x10ed941d0>"
      ]
     },
     "metadata": {},
     "output_type": "display_data"
    }
   ],
   "source": [
    "plt.hist(data[text_column].apply(lambda x: len(x)))\n",
    "plt.title('Letter Counts in Artist %s'%text_column)\n",
    "plt.ylabel('frequency')\n",
    "plt.xlabel('letter count')\n",
    "plt.show()"
   ]
  },
  {
   "cell_type": "code",
   "execution_count": 39,
   "metadata": {
    "collapsed": false
   },
   "outputs": [
    {
     "name": "stdout",
     "output_type": "stream",
     "text": [
      "62\n",
      "33\n"
     ]
    }
   ],
   "source": [
    "print len(data[data['love']==1])\n",
    "print len(data[data['love']==0])"
   ]
  },
  {
   "cell_type": "markdown",
   "metadata": {},
   "source": [
    "#Model\n",
    "1. Preprocessing:\n",
    "    * account for part of speech\n",
    "2. Convert raw text to feature values\n",
    "    *  TF-IDF\n",
    "    *  POS tagging\n",
    "    *  Sentiwordnet scores\n",
    "    *  use `feature union` class to combine\n",
    "3. Make pipeline with tf-idf and multinomialNB\n",
    "    * fit on shufflesplit\n",
    "\n",
    "##1. A Naive Baseline Model"
   ]
  },
  {
   "cell_type": "code",
   "execution_count": 7,
   "metadata": {
    "collapsed": false
   },
   "outputs": [],
   "source": [
    "from sklearn.feature_extraction.text import TfidfVectorizer\n",
    "from sklearn.naive_bayes import MultinomialNB\n",
    "from sklearn.pipeline import Pipeline\n",
    "from sklearn.metrics import precision_recall_curve, auc\n",
    "from sklearn.cross_validation import ShuffleSplit\n",
    "\n",
    "X = data[text_column]\n",
    "Y = data['love']\n",
    "\n",
    "def create_ngram_model(params=None):\n",
    "    tfidf_ngrams = TfidfVectorizer(ngram_range=(1,3),\n",
    "                                   analyzer='word',\n",
    "                                   binary=False)\n",
    "    clf = MultinomialNB()\n",
    "    pipeline =  Pipeline([('vect', tfidf_ngrams),\n",
    "                          ('clf', clf)])\n",
    "    if params:\n",
    "        pipeline.set_params(**params)\n",
    "    \n",
    "    return pipeline\n",
    "    \n",
    "\n",
    "def plot_pr(auc_score, name, precision, recall, label=None):\n",
    "    plt.clf()\n",
    "    plt.figure(num=None, figsize=(5, 4))\n",
    "    plt.grid(True)\n",
    "    plt.fill_between(recall, precision, alpha=0.5)\n",
    "    plt.plot(recall, precision, lw=1)\n",
    "    plt.xlim([0.0, 1.0])\n",
    "    plt.ylim([0.0, 1.0])\n",
    "    plt.xlabel('Recall')\n",
    "    plt.ylabel('Precision')\n",
    "    plt.title('P/R curve (AUC=%0.2f) / %s' % (auc_score, label))\n",
    "\n",
    "def _train_model(clf_factory, X, Y, pos_label=1, plot=True, name='NB ngram'):\n",
    "    cv = ShuffleSplit(n=len(X), n_iter=10, \n",
    "                test_size=0.3, random_state=0)\n",
    "    scores = []\n",
    "    pr_scores = []\n",
    "    precisions, recalls, thresholds = [], [], []\n",
    "    \n",
    "    for train, test in cv:\n",
    "        X_train, Y_train = X[train], Y[train]\n",
    "        X_test, Y_test = X[test], Y[test]\n",
    "        \n",
    "        clf = clf_factory()\n",
    "        clf.fit(X_train, Y_train)\n",
    "        \n",
    "        train_score = clf.score(X_train, Y_train)\n",
    "        test_score = clf.score(X_test, Y_test)\n",
    "        \n",
    "        scores.append(test_score)\n",
    "        proba = clf.predict_proba(X_test)\n",
    "        \n",
    "        precision, recall, pr_thresholds = \\\n",
    "                precision_recall_curve(Y_test, proba[:,pos_label], pos_label=pos_label)\n",
    "        \n",
    "        pr_scores.append(auc(recall, precision))\n",
    "        precisions.append(precision)\n",
    "        recalls.append(recall)\n",
    "        thresholds.append(pr_thresholds)\n",
    "        \n",
    "    scores_to_sort = pr_scores\n",
    "    median = np.argsort(scores_to_sort)[len(scores_to_sort)/2]\n",
    "    \n",
    "    print \"mean scores: %.3f, std error: %.3f\"%(np.mean(scores), np.std(scores))\n",
    "    print \"mean precision: %.3f, std error: %.3f\"%(np.mean(pr_scores),np.std(pr_scores))\n",
    "    print \"best threshold: \", np.mean(thresholds[median])\n",
    "    \n",
    "    if plot:\n",
    "        plot_pr(pr_scores[median], name, \n",
    "                    precisions[median],\n",
    "                    recalls[median],\n",
    "                    label=name)\n",
    "\n"
   ]
  },
  {
   "cell_type": "code",
   "execution_count": 77,
   "metadata": {
    "collapsed": false
   },
   "outputs": [
    {
     "name": "stdout",
     "output_type": "stream",
     "text": [
      "mean scores: 0.666, std error: 0.066\n",
      "mean precision: 0.778, std error: 0.086\n",
      "best threshold:  0.855506224253\n"
     ]
    },
    {
     "data": {
      "text/plain": [
       "<matplotlib.figure.Figure at 0x106851650>"
      ]
     },
     "metadata": {},
     "output_type": "display_data"
    },
    {
     "data": {
      "image/png": "[encoded data removed]",
      "text/plain": [
       "<matplotlib.figure.Figure at 0x1066c3f10>"
      ]
     },
     "metadata": {},
     "output_type": "display_data"
    }
   ],
   "source": [
    "_train_model(create_ngram_model, X, Y, name='pos vs neg')"
   ]
  },
  {
   "cell_type": "code",
   "execution_count": 79,
   "metadata": {
    "collapsed": false
   },
   "outputs": [
    {
     "name": "stdout",
     "output_type": "stream",
     "text": [
      "mean scores: 0.666, std error: 0.066\n",
      "mean precision: 0.476, std error: 0.084\n",
      "best threshold:  0.166733569503\n"
     ]
    },
    {
     "data": {
      "text/plain": [
       "<matplotlib.figure.Figure at 0x10ea5a810>"
      ]
     },
     "metadata": {},
     "output_type": "display_data"
    },
    {
     "data": {
      "image/png": "[encoded data removed]",
      "text/plain": [
       "<matplotlib.figure.Figure at 0x10f3ac290>"
      ]
     },
     "metadata": {},
     "output_type": "display_data"
    }
   ],
   "source": [
    "_train_model(create_ngram_model, X, Y, pos_label=0, name='neg vs pos')"
   ]
  },
  {
   "cell_type": "markdown",
   "metadata": {},
   "source": [
    "# train_model(create_ngram_model, X, Y, pos_label=0, name='neg vs pos')"
   ]
  },
  {
   "cell_type": "markdown",
   "metadata": {},
   "source": [
    "Note, I ran the following and it returned the same negative versus positive graph above, to deal with some of the confusion about labels.  `train_model(create_ngram_model, X, 1-Y, pos_label=1, name='test')`"
   ]
  },
  {
   "cell_type": "markdown",
   "metadata": {},
   "source": [
    "##2. Tuning the Classifier\n",
    "###I have to train the following classes for the model above\n",
    "TfidfVectorizer:\n",
    "* different settings for Ngrams\n",
    "* min_df\n",
    "* use_idf or smooth_idf in TF-IDF\n",
    "* removing stop words\n",
    "* whether to use log word counts\n",
    "* track word counts or booleans\n",
    "\n",
    "MultinomialNB:\n",
    "* smoothing method by setting alpha\n",
    "    * add-one or laplace smoothing: 1\n",
    "    * Lidstone smoothing: 0.01, 0.05, 0.1, 0.5\n",
    "    * No smoothing.\n",
    "\n",
    "###GridSearchCV:\n",
    "* takes estimator arg (Pipeline in this case and dict of parameters)\n",
    "* interface: `<estimator>__<subestimator>__...__<param_name>: <list of values>`\n",
    "* cv parameter\n",
    "* score function is f1_score\n",
    "* takes a long time because 1152 different parameter combinations trained over 10 folds each."
   ]
  },
  {
   "cell_type": "code",
   "execution_count": 61,
   "metadata": {
    "collapsed": false
   },
   "outputs": [],
   "source": [
    "from sklearn.grid_search import GridSearchCV\n",
    "from sklearn.metrics import f1_score\n",
    "\n",
    "def grid_search_model(clf_factory, X, Y):\n",
    "    cv = ShuffleSplit(n=len(X),\n",
    "            n_iter=10,\n",
    "            test_size=0.3,\n",
    "            random_state=0)\n",
    "    \n",
    "    param_grid = dict(vect__ngram_range=[(1,1),(1,2),(1,3)],\n",
    "            vect__min_df=[1,2],\n",
    "            vect__stop_words=[None, \"english\"],\n",
    "            vect__smooth_idf=[False, True],\n",
    "            vect__use_idf=[False, True],\n",
    "            vect__sublinear_tf=[False, True],\n",
    "            vect__binary=[False, True],\n",
    "            clf__alpha=[0,0.01,0.05,0.1,0.5,1])\n",
    "    \n",
    "    grid_search = GridSearchCV(clf_factory(),\n",
    "            param_grid=param_grid,\n",
    "            cv=cv,\n",
    "            score_func=f1_score,\n",
    "            verbose=1)\n",
    "\n",
    "    grid_search.fit(X,Y)\n",
    "    return grid_search.best_estimator_"
   ]
  },
  {
   "cell_type": "code",
   "execution_count": 62,
   "metadata": {
    "collapsed": false
   },
   "outputs": [
    {
     "name": "stderr",
     "output_type": "stream",
     "text": [
      "[Parallel(n_jobs=1)]: Done   1 jobs       | elapsed:    0.2s\n",
      "[Parallel(n_jobs=1)]: Done  50 jobs       | elapsed:    9.2s\n",
      "[Parallel(n_jobs=1)]: Done 200 jobs       | elapsed:   58.9s\n",
      "[Parallel(n_jobs=1)]: Done 450 jobs       | elapsed:  4.6min\n",
      "[Parallel(n_jobs=1)]: Done 800 jobs       | elapsed:  7.2min\n",
      "[Parallel(n_jobs=1)]: Done 1250 jobs       | elapsed: 12.2min\n",
      "[Parallel(n_jobs=1)]: Done 1800 jobs       | elapsed: 18.4min\n",
      "[Parallel(n_jobs=1)]: Done 2450 jobs       | elapsed: 25.5min\n",
      "[Parallel(n_jobs=1)]: Done 3200 jobs       | elapsed: 32.5min\n",
      "[Parallel(n_jobs=1)]: Done 4050 jobs       | elapsed: 41.2min\n",
      "[Parallel(n_jobs=1)]: Done 5000 jobs       | elapsed: 50.8min\n",
      "[Parallel(n_jobs=1)]: Done 6050 jobs       | elapsed: 62.5min\n",
      "[Parallel(n_jobs=1)]: Done 7200 jobs       | elapsed: 76.2min\n",
      "[Parallel(n_jobs=1)]: Done 8450 jobs       | elapsed: 144.8min\n",
      "[Parallel(n_jobs=1)]: Done 9800 jobs       | elapsed: 163.5min\n",
      "[Parallel(n_jobs=1)]: Done 11250 jobs       | elapsed: 640.0min\n"
     ]
    },
    {
     "name": "stdout",
     "output_type": "stream",
     "text": [
      "Fitting 10 folds for each of 1152 candidates, totalling 11520 fits\n",
      "Pipeline(steps=[('vect', TfidfVectorizer(analyzer='word', binary=True, decode_error=u'strict',\n",
      "        dtype=<type 'numpy.int64'>, encoding=u'utf-8', input=u'content',\n",
      "        lowercase=True, max_df=1.0, max_features=None, min_df=1,\n",
      "        ngram_range=(1, 2), norm=u'l2', preprocessor=None,\n",
      "        smooth_id...e_idf=True, vocabulary=None)), ('clf', MultinomialNB(alpha=0.01, class_prior=None, fit_prior=True))])\n"
     ]
    },
    {
     "name": "stderr",
     "output_type": "stream",
     "text": [
      "[Parallel(n_jobs=1)]: Done 11520 out of 11520 | elapsed: 647.0min finished\n"
     ]
    }
   ],
   "source": [
    "clf = grid_search_model(create_ngram_model, X, Y)\n",
    "print clf"
   ]
  },
  {
   "cell_type": "code",
   "execution_count": 8,
   "metadata": {
    "collapsed": false
   },
   "outputs": [],
   "source": [
    "from sklearn.feature_extraction.text import TfidfVectorizer\n",
    "from sklearn.naive_bayes import MultinomialNB\n",
    "from sklearn.pipeline import Pipeline\n",
    "from sklearn.metrics import precision_recall_curve, auc\n",
    "from sklearn.cross_validation import ShuffleSplit\n",
    "\n",
    "X = data[text_column]\n",
    "Y = data['love']\n",
    "\n",
    "def create_ngram_model(params=None):\n",
    "    tfidf_ngrams = TfidfVectorizer(ngram_range=(1,3),\n",
    "                                   analyzer='word',\n",
    "                                   binary=False)\n",
    "    clf = MultinomialNB()\n",
    "    pipeline =  Pipeline([('vect', tfidf_ngrams),\n",
    "                          ('clf', clf)])\n",
    "    if params:\n",
    "        pipeline.set_params(**params)\n",
    "    \n",
    "    return params\n",
    "    \n",
    "\n",
    "def plot_pr(auc_score, name, precision, recall, label=None):\n",
    "    plt.clf()\n",
    "    plt.figure(num=None, figsize=(5, 4))\n",
    "    plt.grid(True)\n",
    "    plt.fill_between(recall, precision, alpha=0.5)\n",
    "    plt.plot(recall, precision, lw=1)\n",
    "    plt.xlim([0.0, 1.0])\n",
    "    plt.ylim([0.0, 1.0])\n",
    "    plt.xlabel('Recall')\n",
    "    plt.ylabel('Precision')\n",
    "    plt.title('P/R curve (AUC=%0.2f) / %s' % (auc_score, label))\n",
    "\n",
    "def train_model(clf, X, Y, pos_label=1, plot=True, name='NB ngram'):\n",
    "    cv = ShuffleSplit(n=len(X), n_iter=10, \n",
    "                test_size=0.3)\n",
    "    scores = []\n",
    "    pr_scores = []\n",
    "    precisions, recalls, thresholds = [], [], []\n",
    "    \n",
    "    for train, test in cv:\n",
    "        X_train, Y_train = X[train], Y[train]\n",
    "        X_test, Y_test = X[test], Y[test]\n",
    "        \n",
    "        clf.fit(X_train, Y_train)\n",
    "        \n",
    "        train_score = clf.score(X_train, Y_train)\n",
    "        test_score = clf.score(X_test, Y_test)\n",
    "        \n",
    "        scores.append(test_score)\n",
    "        proba = clf.predict_proba(X_test)\n",
    "        \n",
    "        precision, recall, pr_thresholds = \\\n",
    "                precision_recall_curve(Y_test, proba[:,pos_label], pos_label=pos_label)\n",
    "        \n",
    "        pr_scores.append(auc(recall, precision))\n",
    "        precisions.append(precision)\n",
    "        recalls.append(recall)\n",
    "        thresholds.append(pr_thresholds)\n",
    "        \n",
    "    scores_to_sort = pr_scores\n",
    "    median = np.argsort(scores_to_sort)[len(scores_to_sort)/2]\n",
    "    \n",
    "    print \"mean scores: %.3f, std error: %.3f\"%(np.mean(scores), np.std(scores))\n",
    "    print \"mean precision: %.3f, std error: %.3f\"%(np.mean(pr_scores),np.std(pr_scores))\n",
    "    print \"best threshold: \", np.mean(thresholds[median])\n",
    "    \n",
    "    if plot:\n",
    "        plot_pr(pr_scores[median], name, \n",
    "                    precisions[median],\n",
    "                    recalls[median],\n",
    "                    label=name)\n",
    "\n",
    "\n",
    "train_model(clf, X, Y, name='tuned pos vs. neg')"
   ]
  },
  {
   "cell_type": "code",
   "execution_count": 89,
   "metadata": {
    "collapsed": false
   },
   "outputs": [
    {
     "name": "stdout",
     "output_type": "stream",
     "text": [
      "mean scores: 0.690, std error: 0.067\n",
      "mean precision: 0.601, std error: 0.126\n",
      "best threshold:  0.28504148104\n"
     ]
    },
    {
     "data": {
      "text/plain": [
       "<matplotlib.figure.Figure at 0x1131c04d0>"
      ]
     },
     "metadata": {},
     "output_type": "display_data"
    },
    {
     "data": {
      "image/png": "[encoded data removed]",
      "text/plain": [
       "<matplotlib.figure.Figure at 0x10ea5a590>"
      ]
     },
     "metadata": {},
     "output_type": "display_data"
    }
   ],
   "source": [
    "train_model(clf, X, 1-Y, pos_label=1, name='tuned neg vs. pos')"
   ]
  },
  {
   "cell_type": "markdown",
   "metadata": {},
   "source": [
    "#3. Taking into Account SentWordNet and Part of Speech\n",
    "\n",
    "in the following, if a word has multiple meanings in different contexts, the socres for those multiple contexts are combined."
   ]
  },
  {
   "cell_type": "code",
   "execution_count": 22,
   "metadata": {
    "collapsed": false
   },
   "outputs": [],
   "source": [
    "import csv\n",
    "import collections\n",
    "import sys\n",
    "sys.setdefaultencoding(\"utf-8\")\n",
    "\n",
    "def load_sent_word_net(swn_file='SentiWordNet_3.0.0_20130122.txt'):\n",
    "    sent_scores = collections.defaultdict(list)\n",
    "    with open(swn_file) as csvfile:\n",
    "        reader = csv.reader(csvfile, delimiter='\\t', quotechar='\"')\n",
    "        for line in reader:\n",
    "            if line[0].startswith(\"#\"): continue\n",
    "            if len(line) == 1: continue\n",
    "            \n",
    "            POS, ID, PosScore, NegScore, SynsetTerms, Gloss = line\n",
    "            if len(POS) == 0 or len(ID) == 0: continue\n",
    "            \n",
    "            for term in SynsetTerms.split(\" \"):\n",
    "                #drop #number at end of every term\n",
    "                term = term.replace(\"-\",\" \").replace(\"_\",\" \")\n",
    "                key = '%s/%s'%(POS, term.split(\"#\")[0])\n",
    "                sent_scores[key].append((float(PosScore),float(NegScore)))\n",
    "        for key, value in sent_scores.items():\n",
    "            sent_scores[key] = np.mean(value, axis=0)\n",
    "        \n",
    "        return sent_scores\n",
    "sent_word_net = load_sent_word_net()"
   ]
  },
  {
   "cell_type": "code",
   "execution_count": 28,
   "metadata": {
    "collapsed": true
   },
   "outputs": [],
   "source": [
    "from sklearn.feature_extraction.text import TfidfVectorizer\n",
    "from sklearn.pipeline import Pipeline, FeatureUnion\n",
    "from sklearn.grid_search import GridSearchCV\n",
    "from sklearn.metrics import f1_score\n",
    "from sklearn.base import BaseEstimator\n",
    "from sklearn.naive_bayes import MultinomialNB\n",
    "import nltk\n",
    "import re\n",
    "\n",
    "class LinguisticVectorizer(BaseEstimator):\n",
    "    def get_feature_names(self):\n",
    "        return np.array(['sent_neut', 'sent_pos', 'sent_neg',\n",
    "                         'nouns', 'adjectives', 'verbs', 'adverbs',\n",
    "                         'allcaps', 'exclamation', 'question'])\n",
    "\n",
    "    def fit(self, documents, y=None):\n",
    "        return self\n",
    "    \n",
    "    def _get_sentiments(self, d):\n",
    "        sent = tuple(nltk.word_tokenize(d))\n",
    "        tagged = nltk.pos_tag(sent)\n",
    "\n",
    "        pos_vals = []\n",
    "        neg_vals = []\n",
    "\n",
    "        nouns = 0.\n",
    "        adjectives = 0.\n",
    "        verbs = 0.\n",
    "        adverbs = 0.\n",
    "\n",
    "        for w, t in tagged:\n",
    "            p, n = 0, 0\n",
    "            sent_pos_type = None\n",
    "            if t.startswith(\"NN\"):\n",
    "                sent_pos_type = \"n\"\n",
    "                nouns += 1\n",
    "            elif t.startswith(\"JJ\"):\n",
    "                sent_pos_type = \"a\"\n",
    "                adjectives += 1\n",
    "            elif t.startswith(\"VB\"):\n",
    "                sent_pos_type = \"v\"\n",
    "                verbs += 1\n",
    "            elif t.startswith(\"RB\"):\n",
    "                sent_pos_type = \"r\"\n",
    "                adverbs += 1\n",
    "\n",
    "            if sent_pos_type is not None:\n",
    "                sent_word = \"%s/%s\" % (sent_pos_type, w)\n",
    "\n",
    "                if sent_word in sent_word_net:\n",
    "                    p, n = sent_word_net[sent_word]\n",
    "\n",
    "            pos_vals.append(p)\n",
    "            neg_vals.append(n)\n",
    "\n",
    "        l = len(sent)\n",
    "        avg_pos_val = np.mean(pos_vals)\n",
    "        avg_neg_val = np.mean(neg_vals)\n",
    "\n",
    "        return [1 - avg_pos_val - avg_neg_val, avg_pos_val, avg_neg_val,\n",
    "                nouns / l, adjectives / l, verbs / l, adverbs / l]\n",
    "\n",
    "    def transform(self, documents):\n",
    "        obj_val, pos_val, neg_val, nouns, adjectives, verbs, adverbs = np.array(\n",
    "            [self._get_sentiments(d) for d in documents]).T\n",
    "\n",
    "        allcaps = []\n",
    "        exclamation = []\n",
    "        question = []\n",
    "\n",
    "        for d in documents:\n",
    "            allcaps.append(\n",
    "                np.sum([t.isupper() for t in d.split() if len(t) > 2]))\n",
    "\n",
    "            exclamation.append(d.count(\"!\"))\n",
    "            question.append(d.count(\"?\"))\n",
    "\n",
    "        result = np.array(\n",
    "            [obj_val, pos_val, neg_val, nouns, adjectives, verbs, adverbs, allcaps,\n",
    "             exclamation, question]).T\n",
    "\n",
    "        return result\n",
    "\n",
    "re_repl = {\n",
    "    r\"\\br\\b\": \"are\",\n",
    "    r\"\\bu\\b\": \"you\",\n",
    "    r\"\\bhaha\\b\": \"ha\",\n",
    "    r\"\\bhahaha\\b\": \"ha\",\n",
    "    r\"\\bdon't\\b\": \"do not\",\n",
    "    r\"\\bdoesn't\\b\": \"does not\",\n",
    "    r\"\\bdidn't\\b\": \"did not\",\n",
    "    r\"\\bhasn't\\b\": \"has not\",\n",
    "    r\"\\bhaven't\\b\": \"have not\",\n",
    "    r\"\\bhadn't\\b\": \"had not\",\n",
    "    r\"\\bwon't\\b\": \"will not\",\n",
    "    r\"\\bwouldn't\\b\": \"would not\",\n",
    "    r\"\\bcan't\\b\": \"can not\",\n",
    "    r\"\\bcannot\\b\": \"can not\",\n",
    "}\n",
    "\n",
    "def create_union_model(params=None):\n",
    "    def preprocessor(doc):\n",
    "        doc = doc.lower()\n",
    "\n",
    "        for r, repl in re_repl.items():\n",
    "            doc = re.sub(r, repl, doc)\n",
    "\n",
    "        return doc.replace(\"-\", \" \").replace(\"_\", \" \")\n",
    "\n",
    "    tfidf_ngrams = TfidfVectorizer(preprocessor=preprocessor,\n",
    "                                   analyzer=\"word\",\n",
    "                                   decode_error='ignore')\n",
    "    ling_stats = LinguisticVectorizer()\n",
    "    all_features = FeatureUnion(\n",
    "        [('ling', ling_stats), ('tfidf', tfidf_ngrams)])\n",
    "#     all_features = FeatureUnion([('tfidf', tfidf_ngrams)])\n",
    "#     all_features = FeatureUnion([('ling', ling_stats)])\n",
    "    clf = MultinomialNB()\n",
    "    pipeline = Pipeline([('all', all_features), ('clf', clf)])\n",
    "\n",
    "    if params:\n",
    "        pipeline.set_params(**params)\n",
    "\n",
    "    return pipeline"
   ]
  },
  {
   "cell_type": "code",
   "execution_count": 31,
   "metadata": {
    "collapsed": false
   },
   "outputs": [
    {
     "data": {
      "text/plain": [
       "<matplotlib.figure.Figure at 0x10754c990>"
      ]
     },
     "metadata": {},
     "output_type": "display_data"
    },
    {
     "data": {
      "image/png": "[encoded data removed]",
      "text/plain": [
       "<matplotlib.figure.Figure at 0x116573b50>"
      ]
     },
     "metadata": {},
     "output_type": "display_data"
    }
   ],
   "source": [
    "train_model(create_union_model(), X, Y, name='Union model')"
   ]
  },
  {
   "cell_type": "markdown",
   "metadata": {},
   "source": [
    "This is worse than my first try, with a naive model and no paramter setting. Tuning this model would obviously help, but it took about an hour to do this one run, so tuning this model would absolutely take forever without parallel computing, which I don't know how to do yet."
   ]
  },
  {
   "cell_type": "code",
   "execution_count": null,
   "metadata": {
    "collapsed": true
   },
   "outputs": [],
   "source": []
  },
  {
   "cell_type": "code",
   "execution_count": null,
   "metadata": {
    "collapsed": true
   },
   "outputs": [],
   "source": []
  }
 ],
 "metadata": {
  "kernelspec": {
   "display_name": "Python 2",
   "language": "python",
   "name": "python2"
  },
  "language_info": {
   "codemirror_mode": {
    "name": "ipython",
    "version": 2
   },
   "file_extension": ".py",
   "mimetype": "text/x-python",
   "name": "python",
   "nbconvert_exporter": "python",
   "pygments_lexer": "ipython2",
   "version": "2.7.10"
  }
 },
 "nbformat": 4,
 "nbformat_minor": 0
}
