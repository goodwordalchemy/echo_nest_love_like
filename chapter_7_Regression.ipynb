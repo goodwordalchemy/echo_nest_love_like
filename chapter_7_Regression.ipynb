{
 "cells": [
  {
   "cell_type": "markdown",
   "metadata": {},
   "source": [
    "##Ordinary Least Squares\n",
    "*  does not work when we have many features or when we have more features than we do datapoints.\n",
    "\n",
    "*  mean squared error gives estimate of amount you can expect to be off (double it).\n",
    "\n",
    "*  $r^2$-the coefficient of variation is a measure of how much better off we are with our estimator than if we had just used the mean as an estimator.  can be accessed through `clf.score(x,y)` in sklearn or through `r2_score` function in metrics package. \n",
    "\n",
    "*  To check your work, plot predicted y values against actual y values and then plot line of slope 1 and see how they match up.\n",
    "\n",
    "*  Cross validation not usually used because amount of overfitting is usually slight.  Gives a more conservative estimate\n",
    "\n",
    "##Penalized or Regularized Regression\n",
    "* penalizing means we add a penalty for overconfidence in the parameter values.  adding a penalty means that we require more data to convince ourselves that there is a strong relationship between input variables and output prediction.\n",
    "\n",
    "* adding bias- so worse fit but possibly better variance.\n",
    "\n",
    "###L1 and L2 penalties\n",
    "* L1 (Lasso) means we penalize the regression by the sum of the absolute values of the coefficients.  Often leands to coeffients being set to 0, which is good because performs feature selection and regression in one step.\n",
    "* L2 (Ridge) means we penalize by the sum of squares.\n",
    "* using both kinds is called an ElasticNet\n",
    "* alpha coeffient govern amount of penalization.  When a is close to zero, closer to unpenalized.\n",
    "* look for higher training error but lower test error"
   ]
  },
  {
   "cell_type": "code",
   "execution_count": null,
   "metadata": {
    "collapsed": true
   },
   "outputs": [],
   "source": [
    "las = Lasso(normalize=1)\n",
    "alphas = np.logspace(-5,2 1000)\n",
    "alphas, coefs, _ = las.path(x, y, alphas=alphas)"
   ]
  },
  {
   "cell_type": "markdown",
   "metadata": {},
   "source": [
    "*  path method on Lasso object returns the coeffients that solve the lasso problem with that parameter value.  \n",
    "*  To visualize, plot value of coefficients as alpha decreases.  Where everything plateaus on the right is close the unpenalized.\n",
    "\n",
    "##P-greater-than-N scenarios\n",
    "*  when p (number of dimensions) is greater than n (number of samples).  e.g. bag of words.\n",
    "\n",
    "*  can get infinitely many solutions with 0 training error because more equations than data points.  In this case, you must use regularization.\n",
    "\n",
    "##Setting hyper parameters in a principled way\n",
    "* use two levels of cross-validation- one to estimate generaliztion and a second level to get good parameters.\n",
    "* `RidgeCV`, `LassoCV`, `ElasticNetCV` as level two.  `test_train_split` as upper level.\n",
    "* use `n_jobs` as -1 to use all available processors or 2 or three or whatever.\n",
    "* only one value for alpha--overall regularization.  `l1_ratio` sets the tradeoff.  You can do this:\n",
    "```\n",
    "l1_ratio = [.01, .05, .25, .5, .75, .95, .99]\n",
    "met = ElasticNetCV(\n",
    "        l1_ratio=l1_ratio,\n",
    "        n_jobs=-1)\n",
    "```"
   ]
  },
  {
   "cell_type": "code",
   "execution_count": 10,
   "metadata": {
    "collapsed": true
   },
   "outputs": [],
   "source": [
    "from matplotlib import pyplot as plt\n",
    "%matplotlib inline\n",
    "from sklearn.datasets import load_boston\n",
    "import numpy as np\n",
    "boston = load_boston()\n",
    "X = boston.data\n",
    "Y = boston.target"
   ]
  },
  {
   "cell_type": "code",
   "execution_count": 28,
   "metadata": {
    "collapsed": false
   },
   "outputs": [
    {
     "name": "stdout",
     "output_type": "stream",
     "text": [
      "RMSE: 6.097\n",
      "r2 : 0.560\n"
     ]
    }
   ],
   "source": [
    "from sklearn.linear_model import LinearRegression\n",
    "from sklearn.cross_validation import KFold\n",
    "from sklearn.metrics import mean_squared_error, r2_score\n",
    "\n",
    "lr = LinearRegression()\n",
    "kf = KFold(len(X), n_folds=5)\n",
    "\n",
    "predicted = np.zeros_like(Y)\n",
    "for train,test in kf:\n",
    "    lr.fit(X[train], Y[train])\n",
    "    predicted[test] = lr.predict(X[test])\n",
    "\n",
    "rmse_cv = np.sqrt(mean_squared_error(Y, predicted))\n",
    "\n",
    "print 'RMSE: %.3f'% rmse_cv\n",
    "print 'r2 : %.3f'%r2_score(Y, predicted)\n"
   ]
  },
  {
   "cell_type": "code",
   "execution_count": 11,
   "metadata": {
    "collapsed": false
   },
   "outputs": [
    {
     "data": {
      "image/png": "[encoded data removed]",
      "text/plain": [
       "<matplotlib.figure.Figure at 0x1091529d0>"
      ]
     },
     "metadata": {},
     "output_type": "display_data"
    }
   ],
   "source": [
    "from sklearn.linear_model import Lasso\n",
    "las = Lasso(normalize=1)\n",
    "alphas = np.logspace(-5, 2, 1000)\n",
    "alphas, coefs, _ = las.path(X, Y, alphas=alphas)\n",
    "\n",
    "fig, ax = plt.subplots()\n",
    "ax.plot(alphas, coefs.T)\n",
    "ax.set_xscale('log')\n",
    "#alphas decrease from left to right\n",
    "ax.set_xlim(alphas.max(), alphas.min())\n",
    "ax.set_xlabel('Alpha')\n",
    "ax.set_ylabel('Coefficient Weight')\n",
    "ax.set_title('Visualizing Lasso Path')\n",
    "plt.show()"
   ]
  },
  {
   "cell_type": "markdown",
   "metadata": {},
   "source": [
    "Note: the model above was not overfitting much.  I'm just doing the elasticnet for fun.  Normally you want to do it when you have high dimensional data that has really low r2 during cross validation but perfect fit on training data.\n",
    "\n",
    "###First, without tuning alpha and alpha_ratio"
   ]
  },
  {
   "cell_type": "code",
   "execution_count": 27,
   "metadata": {
    "collapsed": false
   },
   "outputs": [
    {
     "name": "stdout",
     "output_type": "stream",
     "text": [
      "RMSE: 5.704\n",
      "r2: 0.615\n"
     ]
    }
   ],
   "source": [
    "from sklearn.linear_model import ElasticNet\n",
    "from sklearn.cross_validation import KFold\n",
    "from sklearn.metrics import mean_squared_error, r2_score\n",
    "\n",
    "met = ElasticNet(alpha=0.1)\n",
    "kf = KFold(len(X), n_folds=5)\n",
    "\n",
    "predicted = np.zeros_like(Y)\n",
    "for train,test in kf:\n",
    "    met.fit(X[train], Y[train])\n",
    "    predicted[test] = met.predict(X[test])\n",
    "\n",
    "rmse_cv = np.sqrt(mean_squared_error(Y,predicted))\n",
    "\n",
    "print 'RMSE: %.3f'% rmse_cv\n",
    "print 'r2: %.3f'%r2_score(Y, predicted)\n"
   ]
  },
  {
   "cell_type": "markdown",
   "metadata": {},
   "source": [
    "###Using ElasticNetCV"
   ]
  },
  {
   "cell_type": "code",
   "execution_count": 33,
   "metadata": {
    "collapsed": false
   },
   "outputs": [
    {
     "name": "stdout",
     "output_type": "stream",
     "text": [
      "alpha: 0.844891650663\n",
      "l1 ratio 0.5\n",
      "RMSE: 6.138\n",
      "r2: 0.554\n"
     ]
    }
   ],
   "source": [
    "from sklearn.linear_model import ElasticNetCV\n",
    "from sklearn.cross_validation import KFold\n",
    "from sklearn.metrics import mean_squared_error, r2_score\n",
    "\n",
    "l1_ratio = [0.0001, .01,.05,.25,.5,.75,.95,.99]\n",
    "met = ElasticNetCV(\n",
    "        l1_ratio = l1_ratio,\n",
    "        n_jobs=1)\n",
    "kf = KFold(len(X), n_folds=5)\n",
    "\n",
    "predicted = np.zeros_like(Y)\n",
    "for train,test in kf:\n",
    "    met.fit(X[train], Y[train])\n",
    "    predicted[test] = met.predict(X[test])\n",
    "\n",
    "rmse_cv = np.sqrt(mean_squared_error(Y, predicted))\n",
    "\n",
    "print 'alpha:', met.alpha_\n",
    "print 'l1 ratio', met.l1_ratio_\n",
    "print 'RMSE: %.3f'% rmse_cv\n",
    "print 'r2: %.3f'%r2_score(Y, predicted)\n"
   ]
  },
  {
   "cell_type": "markdown",
   "metadata": {},
   "source": [
    "But Why would I get a lower value using this than I would just using regular regression.  Wouldn't the CV just set alpha to 0?"
   ]
  },
  {
   "cell_type": "code",
   "execution_count": null,
   "metadata": {
    "collapsed": true
   },
   "outputs": [],
   "source": []
  }
 ],
 "metadata": {
  "kernelspec": {
   "display_name": "Python 2",
   "language": "python",
   "name": "python2"
  },
  "language_info": {
   "codemirror_mode": {
    "name": "ipython",
    "version": 2
   },
   "file_extension": ".py",
   "mimetype": "text/x-python",
   "name": "python",
   "nbconvert_exporter": "python",
   "pygments_lexer": "ipython2",
   "version": "2.7.10"
  }
 },
 "nbformat": 4,
 "nbformat_minor": 0
}
