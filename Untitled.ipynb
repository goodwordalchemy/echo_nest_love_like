{
 "cells": [
  {
   "cell_type": "code",
   "execution_count": 11,
   "metadata": {
    "collapsed": false
   },
   "outputs": [
    {
     "name": "stdout",
     "output_type": "stream",
     "text": [
      "{\n",
      "  \"response\": {\n",
      "    \"status\": {\n",
      "      \"code\": 0, \n",
      "      \"message\": \"Success\", \n",
      "      \"version\": \"4.2\"\n",
      "    }, \n",
      "    \"artists\": [\n",
      "      {\n",
      "        \"foreign_ids\": [\n",
      "          {\n",
      "            \"catalog\": \"spotify\", \n",
      "            \"foreign_id\": \"spotify:artist:4Z8W4fKeB5YxbusRsdQVPb\"\n",
      "          }\n",
      "        ], \n",
      "        \"id\": \"ARH6W4X1187B99274F\", \n",
      "        \"name\": \"Radiohead\"\n",
      "      }, \n",
      "      {\n",
      "        \"id\": \"ARHYPRQ11F4C83D230\", \n",
      "        \"name\": \"Radiohead Lullabies\"\n",
      "      }, \n",
      "      {\n",
      "        \"id\": \"ARATULG14DD3AD335A\", \n",
      "        \"name\": \"RADIOHEADZ\"\n",
      "      }, \n",
      "      {\n",
      "        \"id\": \"ARMLGGK13A23CD1318\", \n",
      "        \"name\": \"Radiohead Tribute\"\n",
      "      }, \n",
      "      {\n",
      "        \"id\": \"ARKVYRS126DD652B02\", \n",
      "        \"name\": \"Radioheadheadhead\"\n",
      "      }, \n",
      "      {\n",
      "        \"id\": \"ARPMOVZ126DD9A5A25\", \n",
      "        \"name\": \"Radioheadheadheadheadhead\"\n",
      "      }, \n",
      "      {\n",
      "        \"id\": \"ARVWEUF1431609FC3D\", \n",
      "        \"name\": \"Radiohead+Left Side Wobble\"\n",
      "      }, \n",
      "      {\n",
      "        \"id\": \"ARVOZQT11E8F5C12BA\", \n",
      "        \"name\": \"Radiohead Tribute - Meeting in the Aisle\"\n",
      "      }\n",
      "    ]\n",
      "  }\n",
      "}\n"
     ]
    }
   ],
   "source": [
    "import requests\n",
    "import json\n",
    "import yaml\n",
    "\n",
    "\n",
    "with open('keys.json') as keys_file:\n",
    "    keys = json.load(keys_file)\n",
    "    keys_file.close()\n",
    "\n",
    "    url = 'http://developer.echonest.com/api/v4/artist/search?api_key=' + \\\n",
    "          keys['API_KEY'] + \\\n",
    "          '&name=radiohead&bucket=id:spotify&format=json'\n",
    "r = requests.get(url)\n",
    "d = dict(json.loads(r.content))\n",
    "print json.dumps(d, indent=2)"
   ]
  },
  {
   "cell_type": "code",
   "execution_count": 5,
   "metadata": {
    "collapsed": false
   },
   "outputs": [
    {
     "data": {
      "text/html": [
       "<iframe src=\"https://embed.spotify.com/?uri=spotify:artist:4Z8W4fKeB5YxbusRsdQVPb\" width=\"300\" height=\"80\" frameborder=\"0\" allowtransparency=\"true\"></iframe>"
      ],
      "text/plain": [
       "<IPython.core.display.HTML object>"
      ]
     },
     "execution_count": 5,
     "metadata": {},
     "output_type": "execute_result"
    }
   ],
   "source": [
    "def play_track_by_uri(uri):\n",
    "    from IPython.core.display import HTML\n",
    "    return HTML('<iframe src=\"https://embed.spotify.com/?uri=' + uri + '\" width=\"300\" height=\"80\" frameborder=\"0\" allowtransparency=\"true\"></iframe>')\n",
    "play_track_by_uri(\"spotify:artist:4Z8W4fKeB5YxbusRsdQVPb\")"
   ]
  },
  {
   "cell_type": "markdown",
   "metadata": {},
   "source": [
    "1.  So I'm basically up and running now with being able to play songs.  I would like to go through some of the categories and explore some of the most/least acoustic, live, etc, etc. attributes and display dataframes showing these lists.\n",
    "\n",
    "2.  I want to do some visualization of songs that I've saved on spotify.  What attributes do I tend to dig? Is there anything with a really narrow variance?  To do this, I need to download my spotify playlists and do some exploration with histograms, bar graphs, etc.\n",
    "\n",
    "3.  I'm going to start getting into linear regression and shit, possibly alongside the textbook."
   ]
  },
  {
   "cell_type": "code",
   "execution_count": 7,
   "metadata": {
    "collapsed": false
   },
   "outputs": [
    {
     "ename": "AttributeError",
     "evalue": "'dict' object has no attribute 'CLIENT_ID'",
     "output_type": "error",
     "traceback": [
      "\u001b[0;31m---------------------------------------------------------------------------\u001b[0m",
      "\u001b[0;31mAttributeError\u001b[0m                            Traceback (most recent call last)",
      "\u001b[0;32m<ipython-input-7-0e6370bb0fd4>\u001b[0m in \u001b[0;36m<module>\u001b[0;34m()\u001b[0m\n\u001b[1;32m      1\u001b[0m \u001b[0mbase_url\u001b[0m \u001b[0;34m=\u001b[0m \u001b[0;34m'https://accounts.spotify.com/authorize'\u001b[0m\u001b[0;34m\u001b[0m\u001b[0m\n\u001b[1;32m      2\u001b[0m params = {\n\u001b[0;32m----> 3\u001b[0;31m     \u001b[0;34m'client_id'\u001b[0m\u001b[0;34m:\u001b[0m \u001b[0mkeys\u001b[0m\u001b[0;34m.\u001b[0m\u001b[0mCLIENT_ID\u001b[0m\u001b[0;34m\u001b[0m\u001b[0m\n\u001b[0m\u001b[1;32m      4\u001b[0m }\n",
      "\u001b[0;31mAttributeError\u001b[0m: 'dict' object has no attribute 'CLIENT_ID'"
     ]
    }
   ],
   "source": [
    "base_url = 'https://accounts.spotify.com/authorize'\n",
    "scopes = 'user-read-private user-read-email'\n",
    "params = {\n",
    "    'client_id':keys['CLIENT_ID'],\n",
    "    'response_type':'code',\n",
    "    'redirect_uri':keys['REDIRECT_URI'],\n",
    "    'scopes':scopes,\n",
    "    \n",
    "}"
   ]
  },
  {
   "cell_type": "code",
   "execution_count": 10,
   "metadata": {
    "collapsed": false
   },
   "outputs": [
    {
     "name": "stdout",
     "output_type": "stream",
     "text": [
      "2b08e49142004e0395ec7e0ecd185f86\n"
     ]
    }
   ],
   "source": [
    "print keys['CLIENT_ID']"
   ]
  },
  {
   "cell_type": "code",
   "execution_count": null,
   "metadata": {
    "collapsed": true
   },
   "outputs": [],
   "source": []
  }
 ],
 "metadata": {
  "kernelspec": {
   "display_name": "Python 2",
   "language": "python",
   "name": "python2"
  },
  "language_info": {
   "codemirror_mode": {
    "name": "ipython",
    "version": 2
   },
   "file_extension": ".py",
   "mimetype": "text/x-python",
   "name": "python",
   "nbconvert_exporter": "python",
   "pygments_lexer": "ipython2",
   "version": "2.7.10"
  }
 },
 "nbformat": 4,
 "nbformat_minor": 0
}
