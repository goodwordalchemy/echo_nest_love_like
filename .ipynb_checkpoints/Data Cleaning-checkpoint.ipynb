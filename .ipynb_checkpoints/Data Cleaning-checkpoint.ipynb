{
 "cells": [
  {
   "cell_type": "markdown",
   "metadata": {},
   "source": [
    "##Initial Communications With Spotify API"
   ]
  },
  {
   "cell_type": "code",
   "execution_count": 21,
   "metadata": {
    "collapsed": false
   },
   "outputs": [],
   "source": [
    "import requests\n",
    "import json\n",
    "import yaml\n",
    "import spotipy\n",
    "import pandas as pd\n",
    "import numpy as np\n",
    "import matplotlib.pyplot as plt\n",
    "\n",
    "\n",
    "with open('keys.json') as keys_file:\n",
    "    keys = json.load(keys_file)\n",
    "    keys_file.close()"
   ]
  },
  {
   "cell_type": "code",
   "execution_count": 5,
   "metadata": {
    "collapsed": false
   },
   "outputs": [
    {
     "data": {
      "text/html": [
       "<iframe src=\"https://embed.spotify.com/?uri=spotify:artist:4Z8W4fKeB5YxbusRsdQVPb\" width=\"300\" height=\"80\" frameborder=\"0\" allowtransparency=\"true\"></iframe>"
      ],
      "text/plain": [
       "<IPython.core.display.HTML object>"
      ]
     },
     "execution_count": 5,
     "metadata": {},
     "output_type": "execute_result"
    }
   ],
   "source": [
    "def play_track_by_uri(uri):\n",
    "    from IPython.core.display import HTML\n",
    "    return HTML('<iframe src=\"https://embed.spotify.com/?uri=' + uri + '\" width=\"300\" height=\"80\" frameborder=\"0\" allowtransparency=\"true\"></iframe>')\n",
    "play_track_by_uri(\"spotify:artist:4Z8W4fKeB5YxbusRsdQVPb\")"
   ]
  },
  {
   "cell_type": "code",
   "execution_count": 11,
   "metadata": {
    "collapsed": false
   },
   "outputs": [
    {
     "name": "stdout",
     "output_type": "stream",
     "text": [
      "{\n",
      "  \"product\": \"premium\", \n",
      "  \"display_name\": \"David Goldberg\", \n",
      "  \"external_urls\": {\n",
      "    \"spotify\": \"https://open.spotify.com/user/124292901\"\n",
      "  }, \n",
      "  \"country\": \"US\", \n",
      "  \"uri\": \"spotify:user:124292901\", \n",
      "  \"href\": \"https://api.spotify.com/v1/users/124292901\", \n",
      "  \"followers\": {\n",
      "    \"total\": null, \n",
      "    \"href\": null\n",
      "  }, \n",
      "  \"images\": [\n",
      "    {\n",
      "      \"url\": \"https://fbcdn-profile-a.akamaihd.net/hprofile-ak-xfp1/v/t1.0-1/s200x200/8809_10201450874662610_61631215_n.jpg?oh=b052f6ad27c4ffc0a094aca5a839fb37&oe=569C036C&__gda__=1450188145_bc39634c5166d7c7755be7255344ab72\", \n",
      "      \"width\": null, \n",
      "      \"height\": null\n",
      "    }\n",
      "  ], \n",
      "  \"type\": \"user\", \n",
      "  \"id\": \"124292901\"\n",
      "}\n"
     ]
    }
   ],
   "source": [
    "import spotipy.util\n",
    "scope = 'user-library-read playlist-read-private user-read-private'\n",
    "token = spotipy.util.prompt_for_user_token(\n",
    "    'dbgoldberg01', scope,\n",
    "    client_id=keys['CLIENT_ID'],\n",
    "    client_secret=keys['CLIENT_SECRET'],\n",
    "    redirect_uri='http://localhost:8888/callback')\n",
    "if token:\n",
    "    sp = spotipy.Spotify(auth=token)\n",
    "else:\n",
    "    print \"Can't get token\"\n",
    "print json.dumps(sp.me(),indent=2)"
   ]
  },
  {
   "cell_type": "code",
   "execution_count": 12,
   "metadata": {
    "collapsed": true
   },
   "outputs": [],
   "source": [
    "me_id = \"124292901\""
   ]
  },
  {
   "cell_type": "markdown",
   "metadata": {},
   "source": [
    "##Exploring My \"Favorites\" Playlist"
   ]
  },
  {
   "cell_type": "code",
   "execution_count": 211,
   "metadata": {
    "collapsed": false
   },
   "outputs": [],
   "source": [
    "def pprint(d):\n",
    "    print json.dumps(d, indent=2)"
   ]
  },
  {
   "cell_type": "markdown",
   "metadata": {},
   "source": [
    "This is the data I want in my dataframe and the structure:\n",
    "* my_tracks list item\n",
    "    * added_at\n",
    "    * track\n",
    "        * name\n",
    "        * id\n",
    "        * uri\n",
    "        * album\n",
    "            * name\n",
    "            * id\n",
    "            * uri\n",
    "        * popularity\n",
    "        * artists (list)\n",
    "            * name\n",
    "            * id\n",
    "            * uri"
   ]
  },
  {
   "cell_type": "code",
   "execution_count": 17,
   "metadata": {
    "collapsed": false
   },
   "outputs": [],
   "source": [
    "def get_playlist_tracks(name):\n",
    "    pls = sp.user_playlists(me_id)\n",
    "    res = [p for p in pls['items']\n",
    "                 if p['name']==name]\n",
    "    playlist_id = res[0]['id']\n",
    "    ps = sp.user_playlist_tracks(\n",
    "        \"124292901\", playlist_id=playlist_id)\n",
    "    return ps['items']\n",
    "    \n",
    "    \n",
    "ps_tracks = get_playlist_tracks('science')"
   ]
  },
  {
   "cell_type": "code",
   "execution_count": 14,
   "metadata": {
    "collapsed": false
   },
   "outputs": [
    {
     "data": {
      "text/plain": [
       "[u'is_local', u'track', u'added_by', u'added_at']"
      ]
     },
     "execution_count": 14,
     "metadata": {},
     "output_type": "execute_result"
    }
   ],
   "source": [
    "ps_tracks[0].keys()"
   ]
  },
  {
   "cell_type": "code",
   "execution_count": 20,
   "metadata": {
    "collapsed": false
   },
   "outputs": [
    {
     "name": "stdout",
     "output_type": "stream",
     "text": [
      "(98, 11)\n"
     ]
    },
    {
     "data": {
      "text/html": [
       "<div>\n",
       "<table border=\"1\" class=\"dataframe\">\n",
       "  <thead>\n",
       "    <tr style=\"text-align: right;\">\n",
       "      <th></th>\n",
       "      <th>track_name</th>\n",
       "      <th>track_id</th>\n",
       "      <th>track_uri</th>\n",
       "      <th>track_popularity</th>\n",
       "      <th>added_at</th>\n",
       "      <th>album_name</th>\n",
       "      <th>album_id</th>\n",
       "      <th>album_uri</th>\n",
       "      <th>artist_name</th>\n",
       "      <th>artist_id</th>\n",
       "      <th>artist_uri</th>\n",
       "    </tr>\n",
       "  </thead>\n",
       "  <tbody>\n",
       "    <tr>\n",
       "      <th>0</th>\n",
       "      <td>Graceland</td>\n",
       "      <td>3lbRocWWpBVO9eefdjGi60</td>\n",
       "      <td>spotify:track:3lbRocWWpBVO9eefdjGi60</td>\n",
       "      <td>12</td>\n",
       "      <td>2015-09-16T22:33:32Z</td>\n",
       "      <td>Graceland (2011 Remaster)</td>\n",
       "      <td>4O7d2vnCa5sfyZph6gU4sa</td>\n",
       "      <td>spotify:album:4O7d2vnCa5sfyZph6gU4sa</td>\n",
       "      <td>Paul Simon</td>\n",
       "      <td>2CvCyf1gEVhI0mX6aFXmVI</td>\n",
       "      <td>spotify:artist:2CvCyf1gEVhI0mX6aFXmVI</td>\n",
       "    </tr>\n",
       "    <tr>\n",
       "      <th>1</th>\n",
       "      <td>Speak In</td>\n",
       "      <td>76GGyeUiOtzsZjCxIJGDpd</td>\n",
       "      <td>spotify:track:76GGyeUiOtzsZjCxIJGDpd</td>\n",
       "      <td>0</td>\n",
       "      <td>2015-09-16T22:33:32Z</td>\n",
       "      <td>It Could Just Be This Place</td>\n",
       "      <td>14M1Is6t3MOkxjBynarKce</td>\n",
       "      <td>spotify:album:14M1Is6t3MOkxjBynarKce</td>\n",
       "      <td>not an Airplane</td>\n",
       "      <td>2eTQ0GfNG2zrAghLUKkSas</td>\n",
       "      <td>spotify:artist:2eTQ0GfNG2zrAghLUKkSas</td>\n",
       "    </tr>\n",
       "    <tr>\n",
       "      <th>2</th>\n",
       "      <td>The Funeral</td>\n",
       "      <td>4o0NjemqhmsYLIMwlcosvW</td>\n",
       "      <td>spotify:track:4o0NjemqhmsYLIMwlcosvW</td>\n",
       "      <td>76</td>\n",
       "      <td>2015-09-16T22:33:32Z</td>\n",
       "      <td>Everything All The Time</td>\n",
       "      <td>5uMfshtC2Jwqui0NUyUYIL</td>\n",
       "      <td>spotify:album:5uMfshtC2Jwqui0NUyUYIL</td>\n",
       "      <td>Band of Horses</td>\n",
       "      <td>0OdUWJ0sBjDrqHygGUXeCF</td>\n",
       "      <td>spotify:artist:0OdUWJ0sBjDrqHygGUXeCF</td>\n",
       "    </tr>\n",
       "    <tr>\n",
       "      <th>3</th>\n",
       "      <td>Open Season</td>\n",
       "      <td>6XPC7ZNTJcnWzQaLZYe3od</td>\n",
       "      <td>spotify:track:6XPC7ZNTJcnWzQaLZYe3od</td>\n",
       "      <td>43</td>\n",
       "      <td>2015-09-16T22:33:32Z</td>\n",
       "      <td>Open Season</td>\n",
       "      <td>3vyA5G1a5ISREXX0A4D2Iv</td>\n",
       "      <td>spotify:album:3vyA5G1a5ISREXX0A4D2Iv</td>\n",
       "      <td>High Highs</td>\n",
       "      <td>1cXVTtkpqSXVhyD32f9MS4</td>\n",
       "      <td>spotify:artist:1cXVTtkpqSXVhyD32f9MS4</td>\n",
       "    </tr>\n",
       "    <tr>\n",
       "      <th>4</th>\n",
       "      <td>Artificial Light</td>\n",
       "      <td>2Y93hToFlR6CBItrUqsGqG</td>\n",
       "      <td>spotify:track:2Y93hToFlR6CBItrUqsGqG</td>\n",
       "      <td>40</td>\n",
       "      <td>2015-09-16T22:33:32Z</td>\n",
       "      <td>White Lighter</td>\n",
       "      <td>4cPNeJTCwhYoJJ8sfqLOCB</td>\n",
       "      <td>spotify:album:4cPNeJTCwhYoJJ8sfqLOCB</td>\n",
       "      <td>Typhoon</td>\n",
       "      <td>6p6WlxIkeWH8yOYvciFfVl</td>\n",
       "      <td>spotify:artist:6p6WlxIkeWH8yOYvciFfVl</td>\n",
       "    </tr>\n",
       "  </tbody>\n",
       "</table>\n",
       "</div>"
      ],
      "text/plain": [
       "         track_name                track_id  \\\n",
       "0         Graceland  3lbRocWWpBVO9eefdjGi60   \n",
       "1          Speak In  76GGyeUiOtzsZjCxIJGDpd   \n",
       "2       The Funeral  4o0NjemqhmsYLIMwlcosvW   \n",
       "3       Open Season  6XPC7ZNTJcnWzQaLZYe3od   \n",
       "4  Artificial Light  2Y93hToFlR6CBItrUqsGqG   \n",
       "\n",
       "                              track_uri  track_popularity  \\\n",
       "0  spotify:track:3lbRocWWpBVO9eefdjGi60                12   \n",
       "1  spotify:track:76GGyeUiOtzsZjCxIJGDpd                 0   \n",
       "2  spotify:track:4o0NjemqhmsYLIMwlcosvW                76   \n",
       "3  spotify:track:6XPC7ZNTJcnWzQaLZYe3od                43   \n",
       "4  spotify:track:2Y93hToFlR6CBItrUqsGqG                40   \n",
       "\n",
       "               added_at                   album_name                album_id  \\\n",
       "0  2015-09-16T22:33:32Z    Graceland (2011 Remaster)  4O7d2vnCa5sfyZph6gU4sa   \n",
       "1  2015-09-16T22:33:32Z  It Could Just Be This Place  14M1Is6t3MOkxjBynarKce   \n",
       "2  2015-09-16T22:33:32Z      Everything All The Time  5uMfshtC2Jwqui0NUyUYIL   \n",
       "3  2015-09-16T22:33:32Z                  Open Season  3vyA5G1a5ISREXX0A4D2Iv   \n",
       "4  2015-09-16T22:33:32Z                White Lighter  4cPNeJTCwhYoJJ8sfqLOCB   \n",
       "\n",
       "                              album_uri      artist_name  \\\n",
       "0  spotify:album:4O7d2vnCa5sfyZph6gU4sa       Paul Simon   \n",
       "1  spotify:album:14M1Is6t3MOkxjBynarKce  not an Airplane   \n",
       "2  spotify:album:5uMfshtC2Jwqui0NUyUYIL   Band of Horses   \n",
       "3  spotify:album:3vyA5G1a5ISREXX0A4D2Iv       High Highs   \n",
       "4  spotify:album:4cPNeJTCwhYoJJ8sfqLOCB          Typhoon   \n",
       "\n",
       "                artist_id                             artist_uri  \n",
       "0  2CvCyf1gEVhI0mX6aFXmVI  spotify:artist:2CvCyf1gEVhI0mX6aFXmVI  \n",
       "1  2eTQ0GfNG2zrAghLUKkSas  spotify:artist:2eTQ0GfNG2zrAghLUKkSas  \n",
       "2  0OdUWJ0sBjDrqHygGUXeCF  spotify:artist:0OdUWJ0sBjDrqHygGUXeCF  \n",
       "3  1cXVTtkpqSXVhyD32f9MS4  spotify:artist:1cXVTtkpqSXVhyD32f9MS4  \n",
       "4  6p6WlxIkeWH8yOYvciFfVl  spotify:artist:6p6WlxIkeWH8yOYvciFfVl  "
      ]
     },
     "execution_count": 20,
     "metadata": {},
     "output_type": "execute_result"
    }
   ],
   "source": [
    "def make_df_from_track_list(track_list):\n",
    "    tracks_data = [ \\\n",
    "     (track['track']['name'], \n",
    "      track['track']['id'],\n",
    "      track['track']['uri'],\n",
    "      track['track']['popularity'],\n",
    "      track['added_at'],\n",
    "      track['track']['album']['name'],\n",
    "      track['track']['album']['id'],\n",
    "      track['track']['album']['uri'],\n",
    "      track['track']['artists'][0]['name'],\n",
    "      track['track']['artists'][0]['id'],\n",
    "      track['track']['artists'][0]['uri'],\n",
    "     ) for track in track_list]\n",
    "    tracks_df = pd.DataFrame(tracks_data, columns=[\\\n",
    "        'track_name',\n",
    "        'track_id',\n",
    "        'track_uri',\n",
    "        'track_popularity',\n",
    "        'added_at',\n",
    "        'album_name',\n",
    "        'album_id',\n",
    "        'album_uri',\n",
    "        'artist_name',\n",
    "        'artist_id',\n",
    "        'artist_uri'])\n",
    "    return tracks_df\n",
    "ps_df = make_df_from_track_list(ps_tracks)\n",
    "print ps_df.shape\n",
    "ps_df.head()\n",
    "    "
   ]
  },
  {
   "cell_type": "markdown",
   "metadata": {},
   "source": [
    "##Scraping From Echo Nest\n",
    "for each track, I want to get:\n",
    "* artists\n",
    "    * biographies\n",
    "    * discovery\n",
    "    * familiarity\n",
    "    * genre\n",
    "    * hotttnesss\n",
    "\n",
    "* track\n",
    "    * danceability\n",
    "    * duration\n",
    "    * energy\n",
    "    * key\n",
    "    * loudness\n",
    "    * mode\n",
    "    * speechiness\n",
    "    * acousticness\n",
    "    * liveness\n",
    "    * tempo\n",
    "    * time_signature\n",
    "\n",
    "**Note:** I should do artists and tracks separately so that I don't exceed the api call limit"
   ]
  },
  {
   "cell_type": "code",
   "execution_count": 89,
   "metadata": {
    "collapsed": false
   },
   "outputs": [
    {
     "name": "stdout",
     "output_type": "stream",
     "text": [
      "{u'code': 0, u'message': u'Success', u'version': u'4.2'}\n"
     ]
    }
   ],
   "source": [
    "def get_en_artist_data(artist_uri):\n",
    "    base_url = 'http://developer.echonest.com/api/v4/artist/profile?'\n",
    "    suffix = \\\n",
    "        'api_key='+ keys['EN_API_KEY']+'&'\\\n",
    "        'id='+artist_uri+'&'+\\\n",
    "        'bucket=genre'+'&'+\\\n",
    "        'bucket=biographies'+'&'+\\\n",
    "        'bucket=discovery'+'&'+\\\n",
    "        'bucket=familiarity'+'&'+\\\n",
    "        'bucket=hotttnesss'\n",
    "    r = requests.get(base_url+suffix)\n",
    "    return json.loads(r.content)['response']\n",
    "k = get_en_artist_data('spotify:artist:066X20Nz7iquqkkCW6Jxy6')\n",
    "print k['status']"
   ]
  },
  {
   "cell_type": "markdown",
   "metadata": {},
   "source": [
    "k\n",
    "* artist\n",
    "    * genres\n",
    "        * list of dicts: {name: <value>}\n",
    "    * biographies\n",
    "        * list of bios\n",
    "            * text\n",
    "    * familiarity\n",
    "    * hotttnesss\n",
    "    * discovery"
   ]
  },
  {
   "cell_type": "code",
   "execution_count": 95,
   "metadata": {
    "collapsed": false
   },
   "outputs": [
    {
     "data": {
      "text/plain": [
       "[u'genres',\n",
       " u'name',\n",
       " u'biographies',\n",
       " u'familiarity',\n",
       " u'hotttnesss',\n",
       " u'id',\n",
       " u'discovery']"
      ]
     },
     "execution_count": 95,
     "metadata": {},
     "output_type": "execute_result"
    }
   ],
   "source": [
    "k['artist'].keys()"
   ]
  },
  {
   "cell_type": "code",
   "execution_count": 100,
   "metadata": {
    "collapsed": false
   },
   "outputs": [
    {
     "name": "stdout",
     "output_type": "stream",
     "text": [
      "genres         [dance-punk, new rave, alternative dance, indi...\n",
      "familiarity                                             0.730429\n",
      "hotttnesss                                              0.639947\n",
      "discovery                                              0.3586692\n",
      "biographies    [LCD Soundsystem debuted with \"Losing My Edge,...\n",
      "dtype: object\n"
     ]
    }
   ],
   "source": [
    "def make_series_from_track_uri(artist_uri):\n",
    "    artist = get_en_artist_data(artist_uri)['artist']\n",
    "    artist_data =  (\\\n",
    "      [g['name'] for g in artist['genres']], \n",
    "      artist['familiarity'],\n",
    "      artist['hotttnesss'],\n",
    "      artist['discovery'],\n",
    "      [bio['text'] for bio in artist['biographies']]\n",
    "    )\n",
    "#     print artist_data\n",
    "    artist_series = pd.Series(artist_data, index=[\n",
    "            'genres','familiarity','hotttnesss',\n",
    "            'discovery','biographies'])\n",
    "    return artist_series\n",
    "make_series_from_track_uri('spotify:artist:066X20Nz7iquqkkCW6Jxy6')"
   ]
  },
  {
   "cell_type": "code",
   "execution_count": null,
   "metadata": {
    "collapsed": true
   },
   "outputs": [],
   "source": []
  },
  {
   "cell_type": "markdown",
   "metadata": {},
   "source": [
    "Todo\n",
    "*  -->I need to query echo nest and collect relavent song data\n",
    "\n",
    "*  So I'm basically up and running now with being able to play songs.  I would like to go through some of the categories and explore some of the most/least acoustic, live, etc, etc. attributes and display dataframes showing these lists.\n",
    "\n",
    "*  I want to do some visualization of songs that I've saved on spotify.  What attributes do I tend to dig? Is there anything with a really narrow variance?  To do this, I need to download my spotify playlists and do some exploration with histograms, bar graphs, etc.\n",
    "\n",
    "*  I'm going to start getting into linear regression and shit, possibly alongside the textbook."
   ]
  },
  {
   "cell_type": "markdown",
   "metadata": {},
   "source": [
    "##Conclusions:\n",
    "\n",
    "* Radiostations should change according to your emotions.  That's why internet radio always gets old.\n",
    "* why isn't my listen count available?"
   ]
  }
 ],
 "metadata": {
  "kernelspec": {
   "display_name": "Python 2",
   "language": "python",
   "name": "python2"
  },
  "language_info": {
   "codemirror_mode": {
    "name": "ipython",
    "version": 2
   },
   "file_extension": ".py",
   "mimetype": "text/x-python",
   "name": "python",
   "nbconvert_exporter": "python",
   "pygments_lexer": "ipython2",
   "version": "2.7.10"
  }
 },
 "nbformat": 4,
 "nbformat_minor": 0
}
