{
 "cells": [
  {
   "cell_type": "code",
   "execution_count": 16,
   "metadata": {
    "collapsed": false
   },
   "outputs": [
    {
     "name": "stdout",
     "output_type": "stream",
     "text": [
      "status\n",
      "\tcode\n",
      "\tmessage\n",
      "\tversion\n",
      "\t\t4.2\n",
      "artist\n",
      "\thotttnesss\n",
      "\tname\n",
      "\tid\n",
      "\t\tARX6TAQ11C8A415850\n",
      "\t{u'hotttnesss': 0.844212, u'name': u'Lady Gaga', u'id': u'ARX6TAQ11C8A415850'}\n",
      "None\n"
     ]
    }
   ],
   "source": [
    "import requests\n",
    "import json\n",
    "\n",
    "def pretty(d, indent=0):\n",
    "    for key, value in d.iteritems():\n",
    "        print '\\t' * indent + str(key)\n",
    "        if isinstance(value, dict):\n",
    "            pretty(value, indent+1)\n",
    "        else:\n",
    "            print '\\t' * (indent+1) + str(value)\n",
    "\n",
    "with open('keys.json') as keys_file:\n",
    "    keys = json.load(keys_file)\n",
    "    keys_file.close()\n",
    "\n",
    "    url = 'http://developer.echonest.com/api/v4/artist/hotttnesss?api_key=' + \\\n",
    "          keys['API_KEY'] + \\\n",
    "          '&name=lady+gaga&format=json'\n",
    "r = requests.get(url)\n",
    "d = dict(json.loads(r.content))\n",
    "print pretty(d['response'])\n",
    "\n"
   ]
  },
  {
   "cell_type": "code",
   "execution_count": null,
   "metadata": {
    "collapsed": true
   },
   "outputs": [],
   "source": []
  }
 ],
 "metadata": {
  "kernelspec": {
   "display_name": "Python 2",
   "language": "python",
   "name": "python2"
  },
  "language_info": {
   "codemirror_mode": {
    "name": "ipython",
    "version": 2
   },
   "file_extension": ".py",
   "mimetype": "text/x-python",
   "name": "python",
   "nbconvert_exporter": "python",
   "pygments_lexer": "ipython2",
   "version": "2.7.10"
  }
 },
 "nbformat": 4,
 "nbformat_minor": 0
}
