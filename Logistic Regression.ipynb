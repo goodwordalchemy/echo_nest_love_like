{
 "cells": [
  {
   "cell_type": "code",
   "execution_count": 1,
   "metadata": {
    "collapsed": true
   },
   "outputs": [],
   "source": [
    "%matplotlib inline\n",
    "import matplotlib.pyplot as plt\n",
    "import pandas as pd\n",
    "import numpy as np\n",
    "import seaborn as sns"
   ]
  },
  {
   "cell_type": "code",
   "execution_count": 2,
   "metadata": {
    "collapsed": false
   },
   "outputs": [
    {
     "data": {
      "text/html": [
       "<div>\n",
       "<table border=\"1\" class=\"dataframe\">\n",
       "  <thead>\n",
       "    <tr style=\"text-align: right;\">\n",
       "      <th></th>\n",
       "      <th>track_popularity</th>\n",
       "      <th>discovery</th>\n",
       "      <th>familiarity</th>\n",
       "      <th>hotttnesss</th>\n",
       "      <th>acousticness</th>\n",
       "      <th>danceability</th>\n",
       "      <th>duration</th>\n",
       "      <th>energy</th>\n",
       "      <th>instrumentalness</th>\n",
       "      <th>liveness</th>\n",
       "      <th>loudness</th>\n",
       "      <th>speechiness</th>\n",
       "      <th>tempo</th>\n",
       "      <th>valence</th>\n",
       "      <th>love</th>\n",
       "    </tr>\n",
       "    <tr>\n",
       "      <th>track_name</th>\n",
       "      <th></th>\n",
       "      <th></th>\n",
       "      <th></th>\n",
       "      <th></th>\n",
       "      <th></th>\n",
       "      <th></th>\n",
       "      <th></th>\n",
       "      <th></th>\n",
       "      <th></th>\n",
       "      <th></th>\n",
       "      <th></th>\n",
       "      <th></th>\n",
       "      <th></th>\n",
       "      <th></th>\n",
       "      <th></th>\n",
       "    </tr>\n",
       "  </thead>\n",
       "  <tbody>\n",
       "    <tr>\n",
       "      <th>Guns Of Brixton</th>\n",
       "      <td>0.37</td>\n",
       "      <td>0.380807</td>\n",
       "      <td>0.679215</td>\n",
       "      <td>0.612283</td>\n",
       "      <td>0.241263</td>\n",
       "      <td>0.757744</td>\n",
       "      <td>0.279519</td>\n",
       "      <td>0.833648</td>\n",
       "      <td>3.528776e-06</td>\n",
       "      <td>0.095976</td>\n",
       "      <td>0.899546</td>\n",
       "      <td>0.030653</td>\n",
       "      <td>0.591532</td>\n",
       "      <td>0.899693</td>\n",
       "      <td>1</td>\n",
       "    </tr>\n",
       "    <tr>\n",
       "      <th>Orion</th>\n",
       "      <td>0.00</td>\n",
       "      <td>0.415065</td>\n",
       "      <td>0.629815</td>\n",
       "      <td>0.610436</td>\n",
       "      <td>0.879703</td>\n",
       "      <td>0.509577</td>\n",
       "      <td>0.591832</td>\n",
       "      <td>0.663268</td>\n",
       "      <td>8.546771e-01</td>\n",
       "      <td>0.098095</td>\n",
       "      <td>0.760369</td>\n",
       "      <td>0.037266</td>\n",
       "      <td>0.813985</td>\n",
       "      <td>0.634499</td>\n",
       "      <td>1</td>\n",
       "    </tr>\n",
       "    <tr>\n",
       "      <th>Tamacún</th>\n",
       "      <td>0.52</td>\n",
       "      <td>0.415065</td>\n",
       "      <td>0.629815</td>\n",
       "      <td>0.610436</td>\n",
       "      <td>0.814592</td>\n",
       "      <td>0.596223</td>\n",
       "      <td>0.263634</td>\n",
       "      <td>0.906601</td>\n",
       "      <td>8.238972e-01</td>\n",
       "      <td>0.100514</td>\n",
       "      <td>0.796230</td>\n",
       "      <td>0.034758</td>\n",
       "      <td>0.817285</td>\n",
       "      <td>0.970547</td>\n",
       "      <td>1</td>\n",
       "    </tr>\n",
       "    <tr>\n",
       "      <th>Don't Worry Baby - Mono</th>\n",
       "      <td>0.38</td>\n",
       "      <td>0.318312</td>\n",
       "      <td>0.821948</td>\n",
       "      <td>0.718851</td>\n",
       "      <td>0.334606</td>\n",
       "      <td>0.533372</td>\n",
       "      <td>0.216936</td>\n",
       "      <td>0.511184</td>\n",
       "      <td>4.105586e-09</td>\n",
       "      <td>0.063362</td>\n",
       "      <td>0.903111</td>\n",
       "      <td>0.029544</td>\n",
       "      <td>0.770432</td>\n",
       "      <td>0.800052</td>\n",
       "      <td>1</td>\n",
       "    </tr>\n",
       "    <tr>\n",
       "      <th>Heart in a Cage</th>\n",
       "      <td>0.39</td>\n",
       "      <td>0.416342</td>\n",
       "      <td>0.583200</td>\n",
       "      <td>0.566976</td>\n",
       "      <td>0.874616</td>\n",
       "      <td>0.505810</td>\n",
       "      <td>0.337113</td>\n",
       "      <td>0.433578</td>\n",
       "      <td>3.731721e-03</td>\n",
       "      <td>0.270910</td>\n",
       "      <td>0.648520</td>\n",
       "      <td>0.041427</td>\n",
       "      <td>0.878877</td>\n",
       "      <td>0.486386</td>\n",
       "      <td>1</td>\n",
       "    </tr>\n",
       "  </tbody>\n",
       "</table>\n",
       "</div>"
      ],
      "text/plain": [
       "                         track_popularity  discovery  familiarity  hotttnesss  \\\n",
       "track_name                                                                      \n",
       "Guns Of Brixton                      0.37   0.380807     0.679215    0.612283   \n",
       "Orion                                0.00   0.415065     0.629815    0.610436   \n",
       "Tamacún                              0.52   0.415065     0.629815    0.610436   \n",
       "Don't Worry Baby - Mono              0.38   0.318312     0.821948    0.718851   \n",
       "Heart in a Cage                      0.39   0.416342     0.583200    0.566976   \n",
       "\n",
       "                         acousticness  danceability  duration    energy  \\\n",
       "track_name                                                                \n",
       "Guns Of Brixton              0.241263      0.757744  0.279519  0.833648   \n",
       "Orion                        0.879703      0.509577  0.591832  0.663268   \n",
       "Tamacún                      0.814592      0.596223  0.263634  0.906601   \n",
       "Don't Worry Baby - Mono      0.334606      0.533372  0.216936  0.511184   \n",
       "Heart in a Cage              0.874616      0.505810  0.337113  0.433578   \n",
       "\n",
       "                         instrumentalness  liveness  loudness  speechiness  \\\n",
       "track_name                                                                   \n",
       "Guns Of Brixton              3.528776e-06  0.095976  0.899546     0.030653   \n",
       "Orion                        8.546771e-01  0.098095  0.760369     0.037266   \n",
       "Tamacún                      8.238972e-01  0.100514  0.796230     0.034758   \n",
       "Don't Worry Baby - Mono      4.105586e-09  0.063362  0.903111     0.029544   \n",
       "Heart in a Cage              3.731721e-03  0.270910  0.648520     0.041427   \n",
       "\n",
       "                            tempo   valence  love  \n",
       "track_name                                         \n",
       "Guns Of Brixton          0.591532  0.899693     1  \n",
       "Orion                    0.813985  0.634499     1  \n",
       "Tamacún                  0.817285  0.970547     1  \n",
       "Don't Worry Baby - Mono  0.770432  0.800052     1  \n",
       "Heart in a Cage          0.878877  0.486386     1  "
      ]
     },
     "execution_count": 2,
     "metadata": {},
     "output_type": "execute_result"
    }
   ],
   "source": [
    "data = pd.read_csv('playlist.csv', index_col=1)\n",
    "data = data[['track_popularity', 'discovery',\n",
    "             'familiarity','hotttnesss','acousticness',\n",
    "             'danceability','duration','energy','instrumentalness',\n",
    "             'liveness','loudness','speechiness','tempo',\n",
    "             'valence', 'love']]\n",
    "data.head()"
   ]
  },
  {
   "cell_type": "code",
   "execution_count": 3,
   "metadata": {
    "collapsed": false
   },
   "outputs": [],
   "source": [
    "from sklearn.preprocessing import StandardScaler\n",
    "scaler = StandardScaler()\n",
    "X = data.drop('love',axis=1)\n",
    "X = scaler.fit_transform(X)\n",
    "Y = data['love']\n",
    "\n",
    "from sklearn.cross_validation import train_test_split\n",
    "X_train, X_test, Y_train, Y_test = train_test_split(\n",
    "        X, Y, test_size=0.33, random_state=2)"
   ]
  },
  {
   "cell_type": "code",
   "execution_count": 4,
   "metadata": {
    "collapsed": false
   },
   "outputs": [],
   "source": [
    "from sklearn.linear_model import LogisticRegression\n",
    "from sklearn.cross_validation import KFold\n",
    "from sklearn.metrics import accuracy_score\n",
    "from sklearn.metrics import precision_recall_curve, auc\n",
    "\n",
    "def measure(X, Y, clf, label_idx=1, n_folds=10):\n",
    "    \"\"\"label_idx stands for what we are calling positive in \n",
    "    precision recall testing\"\"\"\n",
    "    kf = KFold(X.shape[0], n_folds=n_folds)\n",
    "    \n",
    "    results = dict(\n",
    "        accuracy_scores = [],\n",
    "        train_errors = [],\n",
    "        test_errors = [],\n",
    "        precisions = [],\n",
    "        recalls = [],\n",
    "        thresholds = [],\n",
    "        aucs = []\n",
    "    )\n",
    "    \n",
    "    for train, test in kf:\n",
    "        X_train, Y_train = X[train], Y[train]\n",
    "        X_test, Y_test = X[test], Y[test]\n",
    "\n",
    "        clf.fit(X_train, Y_train)\n",
    "        predicted = clf.predict(X_test)\n",
    "        proba = clf.predict_proba(X_test)\n",
    "        \n",
    "        results['accuracy_scores'].append(clf.score(X_test, Y_test))\n",
    "        results['train_errors'].append(1-clf.score(X_train, Y_train))\n",
    "        results['test_errors'].append(1-clf.score(X_test, Y_test))\n",
    "\n",
    "        precision, recall, pr_thresholds = precision_recall_curve(\n",
    "             Y_test, proba[:, label_idx])\n",
    "        results['precisions'].append(precision)\n",
    "        results['recalls'].append(recall)\n",
    "        results['thresholds'].append(pr_thresholds)\n",
    "        results['aucs'].append(auc(recall, precision))\n",
    "        \n",
    "    results['train_errors'] = np.mean(results['train_errors'])\n",
    "    results['test_errors'] = np.mean(results['test_errors'])        \n",
    "    return results"
   ]
  },
  {
   "cell_type": "markdown",
   "metadata": {},
   "source": [
    "##Analysis of Results"
   ]
  },
  {
   "cell_type": "code",
   "execution_count": 5,
   "metadata": {
    "collapsed": false
   },
   "outputs": [
    {
     "name": "stdout",
     "output_type": "stream",
     "text": [
      "avg accuracy score 0.62380952381\n"
     ]
    },
    {
     "data": {
      "image/png": "[encoded data removed]",
      "text/plain": [
       "<matplotlib.figure.Figure at 0x105dd9d50>"
      ]
     },
     "metadata": {},
     "output_type": "display_data"
    }
   ],
   "source": [
    "clf = LogisticRegression()\n",
    "res = measure(X, Y, clf, label_idx=0)\n",
    "plt.figure()\n",
    "sns.boxplot(y=res['accuracy_scores'])\n",
    "ax = plt.gca()\n",
    "ax.set_ylim([0.0, 1.0])\n",
    "ax.set_title('accuracy scores for training data for logit classifier')\n",
    "print 'avg accuracy score', np.mean(res['accuracy_scores'])"
   ]
  },
  {
   "cell_type": "markdown",
   "metadata": {},
   "source": [
    "Pretty bad accuracy.  Only slightly better than .5, which would be completely random."
   ]
  },
  {
   "cell_type": "code",
   "execution_count": 6,
   "metadata": {
    "collapsed": false
   },
   "outputs": [
    {
     "data": {
      "image/png": "[encoded data removed]",
      "text/plain": [
       "<matplotlib.figure.Figure at 0x103319dd0>"
      ]
     },
     "metadata": {},
     "output_type": "display_data"
    }
   ],
   "source": [
    "def bias_variance_curve(X, Y, clf):\n",
    "    data_sizes = np.arange(15, len(X),5)\n",
    "    train_errors = []\n",
    "    test_errors = []\n",
    "\n",
    "    for data_size in data_sizes:\n",
    "        res = measure(X[:data_size], Y[:data_size], clf, n_folds=5)\n",
    "        train_error, test_error = res['train_errors'], res['test_errors']\n",
    "        train_errors.append(train_error)\n",
    "        test_errors.append(test_error)\n",
    "    plt.figure()\n",
    "    plt.ylim([0.0, 1.0])\n",
    "    plt.xlabel('Data set size')\n",
    "    plt.ylabel('mean error')\n",
    "    plt.title('Bias Variance Plot for Logistic Function')\n",
    "    plt.plot(data_sizes, train_errors, '--', label='training set')\n",
    "    plt.plot(data_sizes, test_errors, 'b-', lw=1, label='test set')\n",
    "    plt.legend()\n",
    "bias_variance_curve(X, Y, clf)\n"
   ]
  },
  {
   "cell_type": "markdown",
   "metadata": {},
   "source": [
    "looks pretty freaking biased, because the test error is rapidly decreasing and the training error is slowly rising to greet it.  This indicates that we need new or better features.\n",
    "\n",
    "It also has pretty high variance, because the curves maintain a big gap between them."
   ]
  },
  {
   "cell_type": "code",
   "execution_count": 7,
   "metadata": {
    "collapsed": false
   },
   "outputs": [
    {
     "data": {
      "image/png": "[encoded data removed]",
      "text/plain": [
       "<matplotlib.figure.Figure at 0x108bf0090>"
      ]
     },
     "metadata": {},
     "output_type": "display_data"
    }
   ],
   "source": [
    "def plot_feature_importance(feature_names, coef_, name=''):\n",
    "    plt.figure()\n",
    "\n",
    "    coef = coef_.ravel()\n",
    "    \n",
    "    inds = np.argsort(coef)\n",
    "    feature_names = feature_names[inds]\n",
    "    coef = coef[inds]\n",
    "\n",
    "    \n",
    "    xpos = np.array(list(range(len(coef))))\n",
    "    plt.bar(xpos, coef, width=1)\n",
    "\n",
    "    plt.title('Feature importance for positive identification of songs I love')\n",
    "    ax = plt.gca()\n",
    "    ax.set_xticks(np.arange(len(coef)))\n",
    "    labels = ax.set_xticklabels(feature_names)\n",
    "    for label in labels:\n",
    "        label.set_rotation(90)\n",
    "    \n",
    "clf2 = LogisticRegression()\n",
    "clf2.fit(X_train, Y_train)\n",
    "plot_feature_importance(data.columns, clf2.coef_)"
   ]
  },
  {
   "cell_type": "code",
   "execution_count": 8,
   "metadata": {
    "collapsed": false
   },
   "outputs": [
    {
     "name": "stdout",
     "output_type": "stream",
     "text": [
      "Testing recognition of Love at high probability threshold\n",
      "             precision    recall  f1-score   support\n",
      "\n",
      "          0       0.25      0.75      0.38         4\n",
      "          1       0.90      0.50      0.64        18\n",
      "\n",
      "avg / total       0.78      0.55      0.59        22\n",
      "\n",
      "Testing recognition of justlike at probability threshold\n",
      "             precision    recall  f1-score   support\n",
      "\n",
      "          0       0.00      0.00      0.00         4\n",
      "          1       0.81      0.94      0.87        18\n",
      "\n",
      "avg / total       0.66      0.77      0.71        22\n",
      "\n"
     ]
    }
   ],
   "source": [
    "from sklearn.metrics import classification_report\n",
    "threshold = .7\n",
    "\n",
    "test_passes_label = 1\n",
    "Y_pred = clf.predict_proba(X_test)[:,test_passes_label]>threshold\n",
    "\n",
    "print \"Testing recognition of Love at high probability threshold\"\n",
    "print classification_report(Y_test, \n",
    "            Y_pred)\n",
    "\n",
    "test_passes_label = 0\n",
    "Y_pred = clf.predict_proba(X_test)[:,test_passes_label]<threshold\n",
    "print \"Testing recognition of justlike at probability threshold\"\n",
    "print classification_report(Y_test, \n",
    "            Y_pred)\n"
   ]
  },
  {
   "cell_type": "markdown",
   "metadata": {},
   "source": [
    "With a high threshold for probability of loving a song though, my classifier does a very good job at classification.  However, it may be biased by the fact that I've got a lot more songs that I love than songs I just like.  As can be seen in the second report here, there was no song that my classifier could guess with 80% certainty that I would \"just like\".  "
   ]
  },
  {
   "cell_type": "code",
   "execution_count": 16,
   "metadata": {
    "collapsed": false
   },
   "outputs": [
    {
     "data": {
      "image/png": "[encoded data removed]",
      "text/plain": [
       "<matplotlib.figure.Figure at 0x109dcafd0>"
      ]
     },
     "metadata": {},
     "output_type": "display_data"
    },
    {
     "data": {
      "image/png": "[encoded data removed]",
      "text/plain": [
       "<matplotlib.figure.Figure at 0x109f63750>"
      ]
     },
     "metadata": {},
     "output_type": "display_data"
    }
   ],
   "source": [
    "from sklearn.metrics import average_precision_score\n",
    "\n",
    "def plot_precision_recall(y_true, probas_pred, scores, pos_label=1):\n",
    "#     probas_pred = probas_pred[:,pos_label]\n",
    "    probas_pred = probas_pred[:,1-pos_label]\n",
    "    precision, recall, thresholds = precision_recall_curve(\n",
    "            y_true, probas_pred, pos_label)\n",
    "    aps = average_precision_score(y_true, probas_pred)\n",
    "    aps = abs(1-pos_label-aps)\n",
    "    plt.figure()\n",
    "    plt.xlim([0.0, 1.0])\n",
    "    plt.ylim([0.0, 1.0])\n",
    "    plt.xlabel('Recall')\n",
    "    plt.ylabel('Precision')\n",
    "    plt.title('P/R (AUC=%0.2f) for label %d' % (aps, pos_label))\n",
    "    plt.fill_between(recall, precision, alpha=0.5)\n",
    "    plt.grid(True, linestyle='-', color='0.75')\n",
    "    plt.plot(recall, precision, lw=1)\n",
    "\n",
    "clf3 = LogisticRegression()\n",
    "clf3.fit(X_train, Y_train)\n",
    "probas_pred = clf3.predict_proba(X_test)\n",
    "scores = clf3.decision_function(X_test)\n",
    "plot_precision_recall(Y_test, probas_pred, scores, 1)\n",
    "plot_precision_recall(Y_test, probas_pred, scores, 0)"
   ]
  },
  {
   "cell_type": "markdown",
   "metadata": {},
   "source": [
    "Notes:\n",
    "* bigger sample size needed for songs that I don't like, I think.  I think the variance is high, but that it will be tamed with a larger data set, and the reason I think this is clear because every one of the metrics above just looks better when trained on the global X rather than the global training set.  The accuracy scores are higher and have a smaller standard deviation.  The bias variance plot is not stable or close to zero, but, how can I say, makes more sense with more data.  It looks clearly biased as opposed to just confusing"
   ]
  },
  {
   "cell_type": "code",
   "execution_count": null,
   "metadata": {
    "collapsed": true
   },
   "outputs": [],
   "source": []
  }
 ],
 "metadata": {
  "kernelspec": {
   "display_name": "Python 2",
   "language": "python",
   "name": "python2"
  },
  "language_info": {
   "codemirror_mode": {
    "name": "ipython",
    "version": 2
   },
   "file_extension": ".py",
   "mimetype": "text/x-python",
   "name": "python",
   "nbconvert_exporter": "python",
   "pygments_lexer": "ipython2",
   "version": "2.7.10"
  }
 },
 "nbformat": 4,
 "nbformat_minor": 0
}
